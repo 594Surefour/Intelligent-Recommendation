{
 "cells": [
  {
   "cell_type": "code",
   "execution_count": null,
   "id": "c6f777a7",
   "metadata": {},
   "outputs": [],
   "source": []
  },
  {
   "cell_type": "code",
   "execution_count": null,
   "id": "568b23af",
   "metadata": {},
   "outputs": [],
   "source": []
  },
  {
   "cell_type": "code",
   "execution_count": null,
   "id": "d3c6ae59",
   "metadata": {},
   "outputs": [],
   "source": []
  },
  {
   "cell_type": "code",
   "execution_count": 1,
   "id": "ef44b4a6",
   "metadata": {
    "ExecuteTime": {
     "end_time": "2021-05-18T11:36:20.112841Z",
     "start_time": "2021-05-18T11:36:20.106977Z"
    }
   },
   "outputs": [],
   "source": [
    "def RandomSelectNegativeSample(self, items):\n",
    "    ret = dict()\n",
    "    for i in items.keys():\n",
    "        ret[i] = 1\n",
    "    n=0\n",
    "    for i in range(0, len(items) * 3):\n",
    "        item = items_pool[random.randint(0, len(items_pool) - 1)]\n",
    "        if item in ret:\n",
    "             continue\n",
    "        ret[item] = 0\n",
    "        n+=1\n",
    "        if n > len(items):\n",
    "             break\n",
    "    return ret"
   ]
  },
  {
   "cell_type": "code",
   "execution_count": 5,
   "id": "21dd7b46",
   "metadata": {
    "ExecuteTime": {
     "end_time": "2021-05-18T12:09:05.626977Z",
     "start_time": "2021-05-18T12:09:05.615681Z"
    }
   },
   "outputs": [
    {
     "ename": "SyntaxError",
     "evalue": "non-default argument follows default argument (<ipython-input-5-a692cec04c85>, line 1)",
     "output_type": "error",
     "traceback": [
      "\u001b[0;36m  File \u001b[0;32m\"<ipython-input-5-a692cec04c85>\"\u001b[0;36m, line \u001b[0;32m1\u001b[0m\n\u001b[0;31m    def LatentFactorModel(user_items, F=100, N, alpha=0.02, lambdaa=0.01):\u001b[0m\n\u001b[0m                         ^\u001b[0m\n\u001b[0;31mSyntaxError\u001b[0m\u001b[0;31m:\u001b[0m non-default argument follows default argument\n"
     ]
    }
   ],
   "source": [
    "def LatentFactorModel(user_items, N, F=100, alpha=0.02, lambdaa=0.01):\n",
    "    [P, Q] = InitModel(user_items, F)\n",
    "    for step in range(0,N):\n",
    "        for user, items in user_items.items():\n",
    "            samples = RandSelectNegativeSamples(items)\n",
    "            for item, rui in samples.items():\n",
    "                eui = rui - Predict(user, item)\n",
    "                for f in range(0, F):\n",
    "                    P[user][f] += alpha * (eui * Q[item][f] - lambdaa * P[user][f])\n",
    "                    Q[item][f] += alpha * (eui * P[user][f] - lambdaa * Q[item][f])\n",
    "        alpha *= 0.9\n",
    "        \n",
    "def Recommend(user, P, Q):\n",
    "    rank = dict()\n",
    "    for f, puf in P[user].items():\n",
    "        for i, qfi in Q[f].items():\n",
    "            if i not in rank:\n",
    "                rank[i] += puf * qfi\n",
    "    return rank\n",
    "                    \n",
    "                    "
   ]
  },
  {
   "cell_type": "code",
   "execution_count": null,
   "id": "bdc2a12f",
   "metadata": {},
   "outputs": [],
   "source": []
  }
 ],
 "metadata": {
  "kernelspec": {
   "display_name": "Python 3",
   "language": "python",
   "name": "python3"
  },
  "language_info": {
   "codemirror_mode": {
    "name": "ipython",
    "version": 3
   },
   "file_extension": ".py",
   "mimetype": "text/x-python",
   "name": "python",
   "nbconvert_exporter": "python",
   "pygments_lexer": "ipython3",
   "version": "3.7.10"
  },
  "toc": {
   "base_numbering": 1,
   "nav_menu": {},
   "number_sections": true,
   "sideBar": true,
   "skip_h1_title": false,
   "title_cell": "Table of Contents",
   "title_sidebar": "Contents",
   "toc_cell": false,
   "toc_position": {},
   "toc_section_display": true,
   "toc_window_display": false
  },
  "varInspector": {
   "cols": {
    "lenName": 16,
    "lenType": 16,
    "lenVar": 40
   },
   "kernels_config": {
    "python": {
     "delete_cmd_postfix": "",
     "delete_cmd_prefix": "del ",
     "library": "var_list.py",
     "varRefreshCmd": "print(var_dic_list())"
    },
    "r": {
     "delete_cmd_postfix": ") ",
     "delete_cmd_prefix": "rm(",
     "library": "var_list.r",
     "varRefreshCmd": "cat(var_dic_list()) "
    }
   },
   "types_to_exclude": [
    "module",
    "function",
    "builtin_function_or_method",
    "instance",
    "_Feature"
   ],
   "window_display": false
  }
 },
 "nbformat": 4,
 "nbformat_minor": 5
}
