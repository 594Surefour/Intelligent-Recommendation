{
 "cells": [
  {
   "cell_type": "code",
   "execution_count": 10,
   "id": "1c13330d",
   "metadata": {
    "ExecuteTime": {
     "end_time": "2021-05-18T12:14:47.096233Z",
     "start_time": "2021-05-18T12:14:46.657582Z"
    }
   },
   "outputs": [],
   "source": [
    "#导入必要的函数库\n",
    "import numpy\n",
    "import random\n",
    "import pandas as pd\n",
    "import math\n",
    "import csv\n",
    "from collections import defaultdict"
   ]
  },
  {
   "cell_type": "code",
   "execution_count": 11,
   "id": "5d0ce10e",
   "metadata": {
    "ExecuteTime": {
     "end_time": "2021-05-18T12:14:58.914034Z",
     "start_time": "2021-05-18T12:14:58.909074Z"
    }
   },
   "outputs": [
    {
     "name": "stdout",
     "output_type": "stream",
     "text": [
      "['user_id', 'business_id', 'date', 'stars']\n"
     ]
    }
   ],
   "source": [
    "#读取测试集数据\n",
    "filename = \"train.csv\"\n",
    "f = open(filename, \"rt\", encoding=\"utf-8\")\n",
    "header = f.readline()\n",
    "header = header.strip().split(',')#列名\n",
    "print(header)"
   ]
  },
  {
   "cell_type": "code",
   "execution_count": 12,
   "id": "4c5d1633",
   "metadata": {
    "ExecuteTime": {
     "end_time": "2021-05-18T12:16:24.636019Z",
     "start_time": "2021-05-18T12:16:24.611909Z"
    }
   },
   "outputs": [],
   "source": [
    "dataset = []\n",
    "#将测试集数据放入dataset\n",
    "for line in f:\n",
    "    fields = line.strip().split(',')\n",
    "    d = dict(zip(header, fields))\n",
    "    d[\"stars\"] = float(d[\"stars\"])\n",
    "    dataset.append(d)"
   ]
  },
  {
   "cell_type": "code",
   "execution_count": 21,
   "id": "dd606712",
   "metadata": {
    "ExecuteTime": {
     "end_time": "2021-05-18T12:24:46.673799Z",
     "start_time": "2021-05-18T12:24:46.663698Z"
    }
   },
   "outputs": [],
   "source": [
    "ItemPerUser = defaultdict(set)\n",
    "for d in dataset:\n",
    "    user,item = d['user_id'], d['business_id']\n",
    "    ItemPerUser[user].add(item)"
   ]
  },
  {
   "cell_type": "code",
   "execution_count": 22,
   "id": "9cca1d4a",
   "metadata": {
    "ExecuteTime": {
     "end_time": "2021-05-18T12:24:47.183377Z",
     "start_time": "2021-05-18T12:24:47.176818Z"
    }
   },
   "outputs": [],
   "source": [
    "CandidateItems = defaultdict(list)\n",
    "for d in dataset:\n",
    "    item = d['business_id']\n",
    "    ItemPerUser[user].add(item)"
   ]
  },
  {
   "cell_type": "code",
   "execution_count": 28,
   "id": "61d1ca57",
   "metadata": {
    "ExecuteTime": {
     "end_time": "2021-05-18T12:26:16.948241Z",
     "start_time": "2021-05-18T12:26:16.943969Z"
    }
   },
   "outputs": [
    {
     "data": {
      "text/plain": [
       "{'FI-8LPGkc8D_hwx0l0zyyg',\n",
       " 'OGRB__fguKfGpPdH7FvBDA',\n",
       " 'PRbIMseOwPCCRv5C4SfTDQ',\n",
       " 'Xg5qEQiB-7L6kGJ5F4K3bQ',\n",
       " 'mPfdYJj4d5KBPINDkaZY-Q',\n",
       " 'tWiFat101ID5w_wgAPMXhA',\n",
       " 'umrDQGRNied77aVg29_fVw'}"
      ]
     },
     "execution_count": 28,
     "metadata": {},
     "output_type": "execute_result"
    }
   ],
   "source": [
    "ItemPerUser['A2JGzkvNjckSmps_4FbKWw']"
   ]
  },
  {
   "cell_type": "code",
   "execution_count": 23,
   "id": "f913ed16",
   "metadata": {
    "ExecuteTime": {
     "end_time": "2021-05-18T12:24:48.362182Z",
     "start_time": "2021-05-18T12:24:48.356796Z"
    }
   },
   "outputs": [],
   "source": [
    "def RandomSelectNegativeSample(items):\n",
    "    ret = dict()\n",
    "    for i in items.keys():\n",
    "        ret[i] = 1\n",
    "    n=0\n",
    "    for i in range(0, len(items) * 3):\n",
    "        item = items_pool[random.randint(0, len(items_pool) - 1)]\n",
    "        if item in ret:\n",
    "             continue\n",
    "        ret[item] = 0\n",
    "        n+=1\n",
    "        if n > len(items):\n",
    "             break\n",
    "    return ret"
   ]
  },
  {
   "cell_type": "code",
   "execution_count": 24,
   "id": "9baf0200",
   "metadata": {
    "ExecuteTime": {
     "end_time": "2021-05-18T12:24:50.073668Z",
     "start_time": "2021-05-18T12:24:50.068790Z"
    }
   },
   "outputs": [
    {
     "data": {
      "text/plain": [
       "{}"
      ]
     },
     "execution_count": 24,
     "metadata": {},
     "output_type": "execute_result"
    }
   ],
   "source": [
    "RandomSelectNegativeSample(CandidateItems)"
   ]
  },
  {
   "cell_type": "code",
   "execution_count": null,
   "id": "04edebdf",
   "metadata": {},
   "outputs": [],
   "source": []
  },
  {
   "cell_type": "code",
   "execution_count": 9,
   "id": "7376875a",
   "metadata": {
    "ExecuteTime": {
     "end_time": "2021-05-18T12:13:06.244655Z",
     "start_time": "2021-05-18T12:13:06.233313Z"
    }
   },
   "outputs": [],
   "source": [
    "def LatentFactorModel(user_items, N = 20, F = 100, alpha = 0.02, lambdaa = 0.01):\n",
    "    [P, Q] = InitModel(user_items, F)\n",
    "    for step in range(0,N):\n",
    "        for user, items in user_items.items():\n",
    "            samples = RandSelectNegativeSamples(items)\n",
    "            for item, rui in samples.items():\n",
    "                eui = rui - Predict(user, item)\n",
    "                for f in range(0, F):\n",
    "                    P[user][f] += alpha * (eui * Q[item][f] - lambdaa * P[user][f])\n",
    "                    Q[item][f] += alpha * (eui * P[user][f] - lambdaa * Q[item][f])\n",
    "        alpha *= 0.9\n",
    "        \n",
    "def Recommend(user, P, Q):\n",
    "    rank = dict()\n",
    "    for f, puf in P[user].items():\n",
    "        for i, qfi in Q[f].items():\n",
    "            if i not in rank:\n",
    "                rank[i] += puf * qfi\n",
    "    return rank\n",
    "                              "
   ]
  },
  {
   "cell_type": "code",
   "execution_count": null,
   "id": "558a44c6",
   "metadata": {},
   "outputs": [],
   "source": []
  }
 ],
 "metadata": {
  "kernelspec": {
   "display_name": "Python 3",
   "language": "python",
   "name": "python3"
  },
  "language_info": {
   "codemirror_mode": {
    "name": "ipython",
    "version": 3
   },
   "file_extension": ".py",
   "mimetype": "text/x-python",
   "name": "python",
   "nbconvert_exporter": "python",
   "pygments_lexer": "ipython3",
   "version": "3.7.10"
  },
  "toc": {
   "base_numbering": 1,
   "nav_menu": {},
   "number_sections": true,
   "sideBar": true,
   "skip_h1_title": false,
   "title_cell": "Table of Contents",
   "title_sidebar": "Contents",
   "toc_cell": false,
   "toc_position": {},
   "toc_section_display": true,
   "toc_window_display": false
  },
  "varInspector": {
   "cols": {
    "lenName": 16,
    "lenType": 16,
    "lenVar": 40
   },
   "kernels_config": {
    "python": {
     "delete_cmd_postfix": "",
     "delete_cmd_prefix": "del ",
     "library": "var_list.py",
     "varRefreshCmd": "print(var_dic_list())"
    },
    "r": {
     "delete_cmd_postfix": ") ",
     "delete_cmd_prefix": "rm(",
     "library": "var_list.r",
     "varRefreshCmd": "cat(var_dic_list()) "
    }
   },
   "types_to_exclude": [
    "module",
    "function",
    "builtin_function_or_method",
    "instance",
    "_Feature"
   ],
   "window_display": false
  }
 },
 "nbformat": 4,
 "nbformat_minor": 5
}
