{
 "cells": [
  {
   "cell_type": "markdown",
   "metadata": {
    "ExecuteTime": {
     "end_time": "2021-04-01T04:52:30.467884Z",
     "start_time": "2021-04-01T04:52:29.391973Z"
    }
   },
   "source": [
    "##训练集分析"
   ]
  },
  {
   "cell_type": "code",
   "execution_count": 1,
   "metadata": {
    "ExecuteTime": {
     "end_time": "2021-05-19T12:10:35.561876Z",
     "start_time": "2021-05-19T12:10:35.066052Z"
    }
   },
   "outputs": [],
   "source": [
    "#导入必要的函数库\n",
    "import numpy\n",
    "import random\n",
    "import pandas as pd\n",
    "import math\n",
    "import csv\n",
    "from collections import defaultdict"
   ]
  },
  {
   "cell_type": "code",
   "execution_count": 2,
   "metadata": {
    "ExecuteTime": {
     "end_time": "2021-05-19T12:10:36.405214Z",
     "start_time": "2021-05-19T12:10:36.399712Z"
    }
   },
   "outputs": [
    {
     "name": "stdout",
     "output_type": "stream",
     "text": [
      "['user_id', 'business_id', 'date', 'stars']\n"
     ]
    }
   ],
   "source": [
    "#读取测试集数据\n",
    "filename = \"train.csv\"\n",
    "f = open(filename, \"rt\", encoding=\"utf-8\")\n",
    "header = f.readline()\n",
    "header = header.strip().split(',')#列名\n",
    "print(header)"
   ]
  },
  {
   "cell_type": "code",
   "execution_count": 3,
   "metadata": {
    "ExecuteTime": {
     "end_time": "2021-05-19T12:10:37.414286Z",
     "start_time": "2021-05-19T12:10:37.411322Z"
    }
   },
   "outputs": [],
   "source": [
    "dataset = []"
   ]
  },
  {
   "cell_type": "code",
   "execution_count": 4,
   "metadata": {
    "ExecuteTime": {
     "end_time": "2021-05-19T12:10:37.956838Z",
     "start_time": "2021-05-19T12:10:37.932707Z"
    }
   },
   "outputs": [],
   "source": [
    "#将测试集数据放入dataset\n",
    "for line in f:\n",
    "    fields = line.strip().split(',')\n",
    "    d = dict(zip(header, fields))\n",
    "    d[\"stars\"] = float(d[\"stars\"])\n",
    "    dataset.append(d)"
   ]
  },
  {
   "cell_type": "code",
   "execution_count": 5,
   "metadata": {
    "ExecuteTime": {
     "end_time": "2021-05-19T12:10:38.467529Z",
     "start_time": "2021-05-19T12:10:38.463859Z"
    }
   },
   "outputs": [],
   "source": [
    "UserPerItem = defaultdict(set)\n",
    "ItemPerUser = defaultdict(set)"
   ]
  },
  {
   "cell_type": "code",
   "execution_count": 6,
   "metadata": {
    "ExecuteTime": {
     "end_time": "2021-05-19T12:10:39.151552Z",
     "start_time": "2021-05-19T12:10:39.148494Z"
    }
   },
   "outputs": [],
   "source": [
    "itemNames = {}"
   ]
  },
  {
   "cell_type": "code",
   "execution_count": 7,
   "metadata": {
    "ExecuteTime": {
     "end_time": "2021-05-19T12:10:40.082530Z",
     "start_time": "2021-05-19T12:10:40.069091Z"
    }
   },
   "outputs": [],
   "source": [
    "for d in dataset:\n",
    "    user,item = d['user_id'], d['business_id']\n",
    "    UserPerItem[item].add(user)\n",
    "    ItemPerUser[user].add(item)"
   ]
  },
  {
   "cell_type": "code",
   "execution_count": 8,
   "metadata": {
    "ExecuteTime": {
     "end_time": "2021-05-19T12:10:40.718401Z",
     "start_time": "2021-05-19T12:10:40.713309Z"
    }
   },
   "outputs": [],
   "source": [
    "#余弦相似度\n",
    "def cos(s1,s2):\n",
    "    demon = 0.0\n",
    "    number = len(s1.intersection(s2))#并集\n",
    "    l1 = len(s1) #s1集合中元素个数\n",
    "    l2 = len(s2) #s2集合中元素个数\n",
    "    demon += math.sqrt(l1 * l2)\n",
    "    if demon == 0:\n",
    "        return 0\n",
    "    return number / demon"
   ]
  },
  {
   "cell_type": "code",
   "execution_count": 9,
   "metadata": {
    "ExecuteTime": {
     "end_time": "2021-05-19T12:10:41.444160Z",
     "start_time": "2021-05-19T12:10:41.440930Z"
    }
   },
   "outputs": [],
   "source": [
    "reviewsPerUser = defaultdict(list)\n",
    "reviewsPerItem = defaultdict(list)"
   ]
  },
  {
   "cell_type": "code",
   "execution_count": 10,
   "metadata": {
    "ExecuteTime": {
     "end_time": "2021-05-19T12:10:42.012034Z",
     "start_time": "2021-05-19T12:10:42.002276Z"
    }
   },
   "outputs": [],
   "source": [
    "for d in dataset:\n",
    "    user,item = d['user_id'], d['business_id']\n",
    "    reviewsPerItem[item].append(d)\n",
    "    reviewsPerUser[user].append(d)"
   ]
  },
  {
   "cell_type": "code",
   "execution_count": 11,
   "metadata": {
    "ExecuteTime": {
     "end_time": "2021-05-19T12:10:42.544948Z",
     "start_time": "2021-05-19T12:10:42.540075Z"
    }
   },
   "outputs": [],
   "source": [
    "ratingMean = sum([d['stars'] for d in dataset]) / len(dataset)"
   ]
  },
  {
   "cell_type": "code",
   "execution_count": 12,
   "metadata": {
    "ExecuteTime": {
     "end_time": "2021-05-19T12:10:43.255389Z",
     "start_time": "2021-05-19T12:10:43.242940Z"
    }
   },
   "outputs": [
    {
     "data": {
      "text/plain": [
       "3.9070852244074636"
      ]
     },
     "execution_count": 12,
     "metadata": {},
     "output_type": "execute_result"
    }
   ],
   "source": [
    "ratingMean"
   ]
  },
  {
   "cell_type": "code",
   "execution_count": 13,
   "metadata": {
    "ExecuteTime": {
     "end_time": "2021-05-19T12:10:44.292149Z",
     "start_time": "2021-05-19T12:10:44.286770Z"
    }
   },
   "outputs": [],
   "source": [
    "def prdictRating(user,item):\n",
    "    ratings = []\n",
    "    similarities = []\n",
    "    for d in reviewsPerUser[user]:\n",
    "        i2 = d['business_id']\n",
    "        if i2 == item:continue\n",
    "        ratings.append(d['stars'])\n",
    "        similarities.append(cos(UserPerItem[item],UserPerItem[i2]))\n",
    "    if(sum(similarities)>0):\n",
    "        weightedRatings = [(x*y) for x,y in zip(ratings,similarities)]\n",
    "        return sum(weightedRatings) / sum(similarities)\n",
    "    else:\n",
    "        return ratingMean"
   ]
  },
  {
   "cell_type": "code",
   "execution_count": 14,
   "metadata": {
    "ExecuteTime": {
     "end_time": "2021-05-19T12:10:45.412132Z",
     "start_time": "2021-05-19T12:10:45.255856Z"
    }
   },
   "outputs": [
    {
     "name": "stdout",
     "output_type": "stream",
     "text": [
      "0.7294503277861826\n"
     ]
    }
   ],
   "source": [
    "#准确率\n",
    "s = len(dataset)\n",
    "count = 0\n",
    "for d in dataset:\n",
    "    user,item,star = d['user_id'], d['business_id'], d['stars']\n",
    "    star = float(star)\n",
    "    p = round(prdictRating(user,item))\n",
    "    if p - star <= 0.5:\n",
    "        count += 1\n",
    "print(count/s)"
   ]
  },
  {
   "cell_type": "code",
   "execution_count": 15,
   "metadata": {
    "ExecuteTime": {
     "end_time": "2021-05-19T12:10:46.885016Z",
     "start_time": "2021-05-19T12:10:46.881302Z"
    }
   },
   "outputs": [],
   "source": [
    "def MSE(predictions,labels):\n",
    "    differences = [(x-y)**2 for x,y in zip(predictions,labels)]\n",
    "    return sum(differences) / len(differences)"
   ]
  },
  {
   "cell_type": "code",
   "execution_count": 16,
   "metadata": {
    "ExecuteTime": {
     "end_time": "2021-05-19T12:10:49.835902Z",
     "start_time": "2021-05-19T12:10:49.831575Z"
    }
   },
   "outputs": [],
   "source": [
    "alwaysPredictMean = [ratingMean for d in dataset]"
   ]
  },
  {
   "cell_type": "code",
   "execution_count": 17,
   "metadata": {
    "ExecuteTime": {
     "end_time": "2021-05-19T12:10:51.249409Z",
     "start_time": "2021-05-19T12:10:51.117806Z"
    }
   },
   "outputs": [],
   "source": [
    "cfPredicitions = [prdictRating(d['user_id'], d['business_id']) for d in dataset]"
   ]
  },
  {
   "cell_type": "code",
   "execution_count": 18,
   "metadata": {
    "ExecuteTime": {
     "end_time": "2021-05-19T12:10:51.612475Z",
     "start_time": "2021-05-19T12:10:51.608557Z"
    }
   },
   "outputs": [],
   "source": [
    "labels = [d['stars'] for d in dataset]"
   ]
  },
  {
   "cell_type": "code",
   "execution_count": 19,
   "metadata": {
    "ExecuteTime": {
     "end_time": "2021-05-19T12:10:52.110017Z",
     "start_time": "2021-05-19T12:10:52.103861Z"
    }
   },
   "outputs": [
    {
     "data": {
      "text/plain": [
       "1.0033436473005906"
      ]
     },
     "execution_count": 19,
     "metadata": {},
     "output_type": "execute_result"
    }
   ],
   "source": [
    "MSE(alwaysPredictMean, labels)"
   ]
  },
  {
   "cell_type": "code",
   "execution_count": 20,
   "metadata": {
    "ExecuteTime": {
     "end_time": "2021-05-19T12:10:52.985351Z",
     "start_time": "2021-05-19T12:10:52.979375Z"
    }
   },
   "outputs": [
    {
     "data": {
      "text/plain": [
       "1.0792256987993392"
      ]
     },
     "execution_count": 20,
     "metadata": {},
     "output_type": "execute_result"
    }
   ],
   "source": [
    "MSE(cfPredicitions, labels)"
   ]
  },
  {
   "cell_type": "markdown",
   "metadata": {},
   "source": [
    "##读入测试集数据并预测"
   ]
  },
  {
   "cell_type": "code",
   "execution_count": 25,
   "metadata": {
    "ExecuteTime": {
     "end_time": "2021-04-01T06:02:20.033304Z",
     "start_time": "2021-04-01T06:02:20.029011Z"
    }
   },
   "outputs": [
    {
     "name": "stdout",
     "output_type": "stream",
     "text": [
      "['', 'user_id', 'business_id', 'date', 'pre_stars']\n",
      "['', 'user_id', 'business_id', 'date', 'pre_stars', 'pre_stars']\n"
     ]
    }
   ],
   "source": [
    "#读取测试集数据\n",
    "filename2 = \"test.csv\"\n",
    "f2 = open(filename2, \"rt\", encoding=\"utf-8\")\n",
    "header2 = f2.readline()\n",
    "header2 = header2.strip().split(',')#列名\n",
    "print(header2)\n",
    "header2.append('pre_stars')\n",
    "print(header2)"
   ]
  },
  {
   "cell_type": "code",
   "execution_count": 26,
   "metadata": {
    "ExecuteTime": {
     "end_time": "2021-04-01T06:02:20.255083Z",
     "start_time": "2021-04-01T06:02:20.251780Z"
    }
   },
   "outputs": [],
   "source": [
    "predata = []"
   ]
  },
  {
   "cell_type": "code",
   "execution_count": 27,
   "metadata": {
    "ExecuteTime": {
     "end_time": "2021-04-01T06:02:20.485617Z",
     "start_time": "2021-04-01T06:02:20.478131Z"
    }
   },
   "outputs": [],
   "source": [
    "for line in f2:\n",
    "    fields = line.strip().split(',')\n",
    "    d = dict(zip(header2, fields))\n",
    "    d[\"pre_stars\"] = 0\n",
    "    predata.append(d)"
   ]
  },
  {
   "cell_type": "code",
   "execution_count": 28,
   "metadata": {
    "ExecuteTime": {
     "end_time": "2021-04-01T06:02:20.688518Z",
     "start_time": "2021-04-01T06:02:20.650799Z"
    }
   },
   "outputs": [],
   "source": [
    "for d in predata:\n",
    "    u, i = d['user_id'], d['business_id']\n",
    "    s = round(prdictRating(u,i))\n",
    "    d['pre_stars'] = s"
   ]
  },
  {
   "cell_type": "code",
   "execution_count": 29,
   "metadata": {
    "ExecuteTime": {
     "end_time": "2021-04-01T06:02:20.880745Z",
     "start_time": "2021-04-01T06:02:20.863937Z"
    }
   },
   "outputs": [],
   "source": [
    "df = pd.DataFrame(predata)\n",
    "df.to_csv(filename2)"
   ]
  },
  {
   "cell_type": "code",
   "execution_count": null,
   "metadata": {},
   "outputs": [],
   "source": []
  },
  {
   "cell_type": "markdown",
   "metadata": {},
   "source": [
    "##改进，即考虑商品热度进行衰减"
   ]
  },
  {
   "cell_type": "code",
   "execution_count": 14,
   "metadata": {
    "ExecuteTime": {
     "end_time": "2021-04-03T02:23:29.076702Z",
     "start_time": "2021-04-03T02:23:29.069859Z"
    }
   },
   "outputs": [],
   "source": [
    "def prdictRating(user,item):\n",
    "    c = len(UserPerItem[item])\n",
    "    c = 1 / (1 + math.log(c,10))\n",
    "    ratings = []\n",
    "    similarities = []\n",
    "    for d in reviewsPerUser[user]:\n",
    "        i2 = d['business_id']\n",
    "        if i2 == item:continue\n",
    "        ratings.append(d['stars'])\n",
    "        similarities.append(cos(UserPerItem[item],UserPerItem[i2]) * c)\n",
    "    if(sum(similarities)>0):\n",
    "        weightedRatings = [(x*y) for x,y in zip(ratings,similarities)]\n",
    "        return sum(weightedRatings) / sum(similarities)\n",
    "    else:\n",
    "        return ratingMean"
   ]
  },
  {
   "cell_type": "code",
   "execution_count": 17,
   "metadata": {
    "ExecuteTime": {
     "end_time": "2021-04-03T02:23:43.211753Z",
     "start_time": "2021-04-03T02:23:43.150914Z"
    }
   },
   "outputs": [
    {
     "name": "stdout",
     "output_type": "stream",
     "text": [
      "['user_id', 'business_id', 'date']\n",
      "['user_id', 'business_id', 'date', 'pre_stars']\n"
     ]
    }
   ],
   "source": [
    "#读取测试集数据\n",
    "filename2 = \"test2.csv\"\n",
    "f2 = open(filename2, \"rt\", encoding=\"utf-8\")\n",
    "header2 = f2.readline()\n",
    "header2 = header2.strip().split(',')#列名\n",
    "#print(header2)\n",
    "header2.append('pre_stars')\n",
    "#print(header2)\n",
    "\n",
    "predata = []\n",
    "\n",
    "for line in f2:\n",
    "    fields = line.strip().split(',')\n",
    "    d = dict(zip(header2, fields))\n",
    "    d[\"pre_stars\"] = 0\n",
    "    predata.append(d)\n",
    "\n",
    "for d in predata:\n",
    "    u, i = d['user_id'], d['business_id']\n",
    "    s = round(prdictRating(u,i))\n",
    "    d['pre_stars'] = s\n",
    "\n",
    "df = pd.DataFrame(predata)\n",
    "df.to_csv(filename2)"
   ]
  },
  {
   "cell_type": "markdown",
   "metadata": {},
   "source": [
    "# 对比test.csv 与 test2.csv"
   ]
  },
  {
   "cell_type": "code",
   "execution_count": 30,
   "metadata": {
    "ExecuteTime": {
     "end_time": "2021-04-03T03:15:39.152113Z",
     "start_time": "2021-04-03T03:15:39.132253Z"
    }
   },
   "outputs": [
    {
     "name": "stdout",
     "output_type": "stream",
     "text": [
      "0.9989806320081549\n"
     ]
    }
   ],
   "source": [
    "filename_1 = \"test.csv\"\n",
    "filename_2 = \"test2.csv\"\n",
    "\n",
    "file1 = open(filename_1, \"rt\", encoding=\"utf-8\")\n",
    "file2 = open(filename_2, \"rt\", encoding=\"utf-8\")\n",
    "\n",
    "headers1 = file1.readline()\n",
    "headers1 = headers1.strip().split(',')#列名\n",
    "headers2 = file2.readline()\n",
    "headers2 = headers2.strip().split(',')#列名\n",
    "\n",
    "data1 = []\n",
    "data2 = []\n",
    "\n",
    "for line in file1:\n",
    "    fields = line.strip().split(',')\n",
    "    d = dict(zip(headers1, fields))\n",
    "    data1.append(d)\n",
    "\n",
    "for line in file2:\n",
    "    fields = line.strip().split(',')\n",
    "    d = dict(zip(headers2, fields))\n",
    "    data2.append(d)\n",
    "\n",
    "s = len(data1)\n",
    "count = 0\n",
    "for i in range(len(data1)):\n",
    "    s1 = float(data1[i]['pre_stars'])\n",
    "    s2 = float(data2[i]['pre_stars'])\n",
    "    if(s1 == s2):\n",
    "        count += 1\n",
    "print(count / s)"
   ]
  },
  {
   "cell_type": "code",
   "execution_count": null,
   "metadata": {},
   "outputs": [],
   "source": []
  }
 ],
 "metadata": {
  "kernelspec": {
   "display_name": "Python 3",
   "language": "python",
   "name": "python3"
  },
  "language_info": {
   "codemirror_mode": {
    "name": "ipython",
    "version": 3
   },
   "file_extension": ".py",
   "mimetype": "text/x-python",
   "name": "python",
   "nbconvert_exporter": "python",
   "pygments_lexer": "ipython3",
   "version": "3.7.10"
  },
  "toc": {
   "base_numbering": 1,
   "nav_menu": {},
   "number_sections": true,
   "sideBar": true,
   "skip_h1_title": false,
   "title_cell": "Table of Contents",
   "title_sidebar": "Contents",
   "toc_cell": false,
   "toc_position": {},
   "toc_section_display": true,
   "toc_window_display": false
  },
  "varInspector": {
   "cols": {
    "lenName": 16,
    "lenType": 16,
    "lenVar": 40
   },
   "kernels_config": {
    "python": {
     "delete_cmd_postfix": "",
     "delete_cmd_prefix": "del ",
     "library": "var_list.py",
     "varRefreshCmd": "print(var_dic_list())"
    },
    "r": {
     "delete_cmd_postfix": ") ",
     "delete_cmd_prefix": "rm(",
     "library": "var_list.r",
     "varRefreshCmd": "cat(var_dic_list()) "
    }
   },
   "types_to_exclude": [
    "module",
    "function",
    "builtin_function_or_method",
    "instance",
    "_Feature"
   ],
   "window_display": false
  }
 },
 "nbformat": 4,
 "nbformat_minor": 4
}
