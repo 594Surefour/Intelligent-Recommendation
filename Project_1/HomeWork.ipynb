{
 "cells": [
  {
   "cell_type": "code",
   "execution_count": 10,
   "metadata": {},
   "outputs": [],
   "source": [
    "#导入必要的函数库\n",
    "import numpy\n",
    "import random\n",
    "import pandas as pd\n",
    "import math\n",
    "from sklearn.model_selection import train_test_split\n",
    "from sklearn import datasets\n",
    "from collections import defaultdict"
   ]
  },
  {
   "cell_type": "markdown",
   "metadata": {},
   "source": [
    "分析：\n",
    "    要预测u用户对b商品对星级评价，首先得到对商品b评价过的用户集合，UserPerItem[b]；\n",
    "    1计算集合中的每个user与u的相似度，cos(ItemPerUser[u]，ItemPerUser[user])；\n",
    "    2得到user对该商品b对评价星级Rbs\n",
    "    3得到user对其评价过的星级的平均值，R \n",
    "        计算某用户历史打分平均值方法为函数userstar_avg\n",
    "    4得到u用户对其评价过的星级的平均值 Ru，计算同上\n",
    "    5最后计算，prep(u,b) = Ru + (求和cos*(R-Ru)) / cos"
   ]
  },
  {
   "cell_type": "markdown",
   "metadata": {},
   "source": [
    "对训练集和测试集预处理，便于后续分析"
   ]
  },
  {
   "cell_type": "code",
   "execution_count": 13,
   "metadata": {},
   "outputs": [],
   "source": [
    "#对train按照用户ID排序，便于查看\n",
    "import pandas as pd\n",
    "filename = \"train.csv\"\n",
    "data = pd.read_csv(filename)\n",
    "data = data.sort_values(by='user_id', ascending=False)\n",
    "data.to_csv(\"train.csv\", index=False)\n",
    "#print(data[\"user_id\"])"
   ]
  },
  {
   "cell_type": "code",
   "execution_count": 14,
   "metadata": {},
   "outputs": [],
   "source": [
    "#对test按照商品ID排序\n",
    "import pandas as pd\n",
    "filename = \"test.csv\"\n",
    "data = pd.read_csv(filename)\n",
    "data = data.sort_values(by='user_id', ascending=False)\n",
    "data.to_csv(\"train.csv\", index=False)"
   ]
  },
  {
   "cell_type": "code",
   "execution_count": 11,
   "metadata": {},
   "outputs": [
    {
     "name": "stdout",
     "output_type": "stream",
     "text": [
      "['user_id', 'business_id', 'date', 'stars']\n"
     ]
    }
   ],
   "source": [
    "#读取测试集数据\n",
    "filename = \"train.csv\"\n",
    "f = open(filename, \"rt\", encoding=\"utf-8\")\n",
    "header = f.readline()\n",
    "header = header.strip().split(',')#列名\n",
    "print(header)"
   ]
  },
  {
   "cell_type": "code",
   "execution_count": 12,
   "metadata": {},
   "outputs": [],
   "source": [
    "dataset = []#存储每一行用户ID、商品ID、打分时间、打分星级"
   ]
  },
  {
   "cell_type": "code",
   "execution_count": 13,
   "metadata": {},
   "outputs": [],
   "source": [
    "for line in f:\n",
    "    fields = line.strip().split(',')\n",
    "    d = dict(zip(header, fields))\n",
    "    d[\"star\"] = float(d[\"stars\"])\n",
    "    dataset.append(d)"
   ]
  },
  {
   "cell_type": "code",
   "execution_count": 36,
   "metadata": {},
   "outputs": [],
   "source": [
    "UserPerItem = defaultdict(set)\n",
    "ItemPerUser = defaultdict(set)\n",
    "ItemPerStar = defaultdict(list)"
   ]
  },
  {
   "cell_type": "code",
   "execution_count": 15,
   "metadata": {},
   "outputs": [],
   "source": [
    "Names = {}"
   ]
  },
  {
   "cell_type": "code",
   "execution_count": 37,
   "metadata": {},
   "outputs": [],
   "source": [
    "for d in dataset:\n",
    "    user,item,star = d['user_id'], d['business_id'], d['stars']\n",
    "    UserPerItem[item].add(user)#商品item对应的交互过的用户user\n",
    "    ItemPerUser[user].add(item)#用户user对应的评价过的商品item\n",
    "    ItemPerStar[user].append({item:star})"
   ]
  },
  {
   "cell_type": "code",
   "execution_count": 17,
   "metadata": {},
   "outputs": [],
   "source": [
    "#余弦相似度\n",
    "def cos(s1,s2):\n",
    "    number = len(s1.intersection(s2))#并集\n",
    "    l1 = int(len(s1))#s1集合中元素个数\n",
    "    l2 = int(len(s2))#s2集合中元素个数\n",
    "    demon = math.sqrt(l1 * l2)\n",
    "    return number / demon"
   ]
  },
  {
   "cell_type": "code",
   "execution_count": 25,
   "metadata": {},
   "outputs": [],
   "source": [
    "def mostSimiliar(i):\n",
    "    similarities = []\n",
    "    users = ItemPerUser[i] #该用户评价过的商品\n",
    "    for i2 in ItemPerUser:#整体用户列表\n",
    "        if i2 == i:\n",
    "            continue\n",
    "        #UserPerItem[i2]\n",
    "        sim = cos(users,ItemPerUser[i2])\n",
    "        similarities.append((sim,i2))\n",
    "    similarities.sort(reverse=True)\n",
    "    return similarities[:30]"
   ]
  },
  {
   "cell_type": "code",
   "execution_count": 49,
   "metadata": {},
   "outputs": [],
   "source": [
    "#输入一个用户ID，返回用户打分平均值\n",
    "def userstar_avg(u):\n",
    "    sum = 0\n",
    "    for i in ItemPerStar[u]:\n",
    "        for v in i.values():\n",
    "            sum += float(v)\n",
    "    return (sum / len(ItemPerStar[u]))"
   ]
  },
  {
   "cell_type": "code",
   "execution_count": 53,
   "metadata": {},
   "outputs": [],
   "source": [
    "#\n",
    "def get_star(user,bus_id):\n",
    "    for i in range(len(ItemPerStar[user])):\n",
    "        res = 0\n",
    "        d = ItemPerStar[user][i]\n",
    "        for t in d.keys():\n",
    "            if t == bus_id:\n",
    "                res = float(ItemPerStar[q1][i][t])\n",
    "                break\n",
    "            else:\n",
    "                continue"
   ]
  },
  {
   "cell_type": "code",
   "execution_count": 54,
   "metadata": {},
   "outputs": [],
   "source": [
    "def Predict(user,b):\n",
    "    L = mostSimiliar(user)\n",
    "    res = 0.0\n",
    "    sum_sim = 0\n",
    "    for i in range(len(L)):\n",
    "        u = L[i][1] #相关用户名称\n",
    "        c = float(L[i][0]) #相关系数\n",
    "        r = get_star(u,b)\n",
    "        res += c * (r - userstar_avg(u))\n",
    "        sum_sim += c\n",
    "    res /= c\n",
    "    res += userstar_avg(user)\n",
    "    return res"
   ]
  },
  {
   "cell_type": "code",
   "execution_count": 55,
   "metadata": {},
   "outputs": [
    {
     "ename": "TypeError",
     "evalue": "unsupported operand type(s) for -: 'NoneType' and 'float'",
     "output_type": "error",
     "traceback": [
      "\u001b[0;31m---------------------------------------------------------------------------\u001b[0m",
      "\u001b[0;31mTypeError\u001b[0m                                 Traceback (most recent call last)",
      "\u001b[0;32m<ipython-input-55-70f07f04450a>\u001b[0m in \u001b[0;36m<module>\u001b[0;34m\u001b[0m\n\u001b[1;32m      1\u001b[0m \u001b[0muser\u001b[0m \u001b[0;34m=\u001b[0m \u001b[0;34m'PfpRvMAESbC2bC8FUIMdNg'\u001b[0m\u001b[0;34m\u001b[0m\u001b[0;34m\u001b[0m\u001b[0m\n\u001b[1;32m      2\u001b[0m \u001b[0mb\u001b[0m \u001b[0;34m=\u001b[0m \u001b[0;34m'Kbbm6Vd5UdbP10dwjBghRw'\u001b[0m\u001b[0;34m\u001b[0m\u001b[0;34m\u001b[0m\u001b[0m\n\u001b[0;32m----> 3\u001b[0;31m \u001b[0mPredict\u001b[0m\u001b[0;34m(\u001b[0m\u001b[0muser\u001b[0m\u001b[0;34m,\u001b[0m\u001b[0mb\u001b[0m\u001b[0;34m)\u001b[0m\u001b[0;34m\u001b[0m\u001b[0;34m\u001b[0m\u001b[0m\n\u001b[0m",
      "\u001b[0;32m<ipython-input-54-6f2c1cbda3ce>\u001b[0m in \u001b[0;36mPredict\u001b[0;34m(user, b)\u001b[0m\n\u001b[1;32m      7\u001b[0m         \u001b[0mc\u001b[0m \u001b[0;34m=\u001b[0m \u001b[0mfloat\u001b[0m\u001b[0;34m(\u001b[0m\u001b[0mL\u001b[0m\u001b[0;34m[\u001b[0m\u001b[0mi\u001b[0m\u001b[0;34m]\u001b[0m\u001b[0;34m[\u001b[0m\u001b[0;36m0\u001b[0m\u001b[0;34m]\u001b[0m\u001b[0;34m)\u001b[0m \u001b[0;31m#相关系数\u001b[0m\u001b[0;34m\u001b[0m\u001b[0;34m\u001b[0m\u001b[0m\n\u001b[1;32m      8\u001b[0m         \u001b[0mr\u001b[0m \u001b[0;34m=\u001b[0m \u001b[0mget_star\u001b[0m\u001b[0;34m(\u001b[0m\u001b[0mu\u001b[0m\u001b[0;34m,\u001b[0m\u001b[0mb\u001b[0m\u001b[0;34m)\u001b[0m\u001b[0;34m\u001b[0m\u001b[0;34m\u001b[0m\u001b[0m\n\u001b[0;32m----> 9\u001b[0;31m         \u001b[0mres\u001b[0m \u001b[0;34m+=\u001b[0m \u001b[0mc\u001b[0m \u001b[0;34m*\u001b[0m \u001b[0;34m(\u001b[0m\u001b[0mr\u001b[0m \u001b[0;34m-\u001b[0m \u001b[0muserstar_avg\u001b[0m\u001b[0;34m(\u001b[0m\u001b[0mu\u001b[0m\u001b[0;34m)\u001b[0m\u001b[0;34m)\u001b[0m\u001b[0;34m\u001b[0m\u001b[0;34m\u001b[0m\u001b[0m\n\u001b[0m\u001b[1;32m     10\u001b[0m         \u001b[0msum_sim\u001b[0m \u001b[0;34m+=\u001b[0m \u001b[0mc\u001b[0m\u001b[0;34m\u001b[0m\u001b[0;34m\u001b[0m\u001b[0m\n\u001b[1;32m     11\u001b[0m     \u001b[0mres\u001b[0m \u001b[0;34m/=\u001b[0m \u001b[0mc\u001b[0m\u001b[0;34m\u001b[0m\u001b[0;34m\u001b[0m\u001b[0m\n",
      "\u001b[0;31mTypeError\u001b[0m: unsupported operand type(s) for -: 'NoneType' and 'float'"
     ]
    }
   ],
   "source": [
    "user = 'PfpRvMAESbC2bC8FUIMdNg'\n",
    "b = 'Kbbm6Vd5UdbP10dwjBghRw'\n",
    "Predict(user,b)"
   ]
  },
  {
   "cell_type": "code",
   "execution_count": null,
   "metadata": {},
   "outputs": [],
   "source": [
    "#从训练集中划分一部分作为验证集\n"
   ]
  },
  {
   "cell_type": "code",
   "execution_count": null,
   "metadata": {},
   "outputs": [],
   "source": [
    "#读取测试集数据并计算\n",
    "filename = \"test.csv\"\n",
    "f = open(filename, \"rt\", encoding=\"utf-8\")\n",
    "header = f.readline()\n",
    "header = header.strip().split(',')#列名\n",
    "print(header)\n",
    "\n",
    "datatest = []#存储每一行用户ID、商品ID、\n",
    "\n",
    "for line in f:\n",
    "    fields = line.strip().split(',')\n",
    "    d = dict(zip(header, fields))\n",
    "    d[\"star\"] = 0\n",
    "    dataset.append(d)"
   ]
  }
 ],
 "metadata": {
  "kernelspec": {
   "display_name": "Python 3",
   "language": "python",
   "name": "python3"
  },
  "language_info": {
   "codemirror_mode": {
    "name": "ipython",
    "version": 3
   },
   "file_extension": ".py",
   "mimetype": "text/x-python",
   "name": "python",
   "nbconvert_exporter": "python",
   "pygments_lexer": "ipython3",
   "version": "3.7.6"
  }
 },
 "nbformat": 4,
 "nbformat_minor": 4
}
