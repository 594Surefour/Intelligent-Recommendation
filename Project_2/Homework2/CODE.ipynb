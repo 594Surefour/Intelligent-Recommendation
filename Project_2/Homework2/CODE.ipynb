{
 "cells": [
  {
   "cell_type": "code",
   "execution_count": 1,
   "metadata": {
    "ExecuteTime": {
     "end_time": "2021-05-05T15:31:45.379819Z",
     "start_time": "2021-05-05T15:31:45.078865Z"
    }
   },
   "outputs": [],
   "source": [
    "import pandas as pd\n",
    "import numpy as np\n",
    "import csv"
   ]
  },
  {
   "cell_type": "markdown",
   "metadata": {},
   "source": [
    "# 导入tsv数据"
   ]
  },
  {
   "cell_type": "code",
   "execution_count": 2,
   "metadata": {
    "ExecuteTime": {
     "end_time": "2021-05-05T15:31:45.385806Z",
     "start_time": "2021-05-05T15:31:45.381892Z"
    },
    "scrolled": false
   },
   "outputs": [],
   "source": [
    "def read_from_tsv(file_path: str, column_names: list) -> list:\n",
    "    csv.register_dialect('tsv_dialect', delimiter='\\t', quoting=csv.QUOTE_ALL)\n",
    "    with open(file_path, \"r\",encoding='utf-8') as wf:\n",
    "        reader = csv.DictReader(wf, fieldnames=column_names, dialect='tsv_dialect')\n",
    "        datas = []\n",
    "        for row in reader:\n",
    "            data = dict(row)\n",
    "            datas.append(data)\n",
    "    csv.unregister_dialect('tsv_dialect')\n",
    "    return datas"
   ]
  },
  {
   "cell_type": "code",
   "execution_count": 3,
   "metadata": {
    "ExecuteTime": {
     "end_time": "2021-05-05T15:31:46.081478Z",
     "start_time": "2021-05-05T15:31:45.388370Z"
    }
   },
   "outputs": [],
   "source": [
    "train_data = read_from_tsv('train.tsv',['Uid','Date', 'History', 'Impression'])[1:]\n",
    "train_news_data = read_from_tsv('train_news.tsv',['Nid','Category', 'SubCategory', 'Title', 'Abstract'])[1:]\n",
    "test_data = read_from_tsv('test.tsv',['Uid','Date', 'History', 'Impression'])[1:]\n",
    "test_news_data = read_from_tsv('test_news.tsv',['Nid','Category', 'SubCategory', 'Title', 'Abstract'])[1:]"
   ]
  },
  {
   "cell_type": "code",
   "execution_count": 4,
   "metadata": {
    "ExecuteTime": {
     "end_time": "2021-05-05T15:31:46.088323Z",
     "start_time": "2021-05-05T15:31:46.084012Z"
    }
   },
   "outputs": [],
   "source": [
    "data = train_data + test_data\n",
    "news_data = train_news_data + test_news_data"
   ]
  },
  {
   "cell_type": "code",
   "execution_count": 5,
   "metadata": {
    "ExecuteTime": {
     "end_time": "2021-05-05T15:31:46.100507Z",
     "start_time": "2021-05-05T15:31:46.090205Z"
    }
   },
   "outputs": [
    {
     "data": {
      "text/plain": [
       "[{'Uid': 'U48196',\n",
       "  'Date': '11/11/2019 7:56:24 PM',\n",
       "  'History': 'N51591 N23288 N33604 N3908 N16730 N23571 N16730 N44018 N5844 N23979 N48369 N37706 N15745 N28487 N43353 N54529 N23488 N3682 N26318 N18896 N6004 N11701 N10503 N29088 N719 N37264 N54069 N30026 N871 N27167 N37378 N6233 N51661 N33115 N29101 N26978 N24920 N59754 N31322 N20039 N13603 N33200 N62705 N4394 N3680 N50513 N11175 N1088 N47525 N35820 N41351 N1603 N34198 N49229 N31931 N59763 N37127 N22081 N63376 N56693 N49458 N54827 N274 N9803 N25905 N26272 N3613 N59359 N48259 N21178 N51541 N24492 N26503 N29742 N55743 N2086 N28679 N38299 N10848 N3130 N41997 N23045 N7851 N19280 N57760 N17542 N60360 N64609 N5351 N34000 N43142 N58391 N33742 N7853 N14385 N39161 N47482 N26122 N48356 N11231 N53422 N7019 N26826 N17050 N14761 N25258 N24409 N28856 N61355 N39414 N16922 N15663 N10814 N6785 N55001 N32004 N62211 N25912 N13753 N54072 N7646 N55055 N6767 N31281 N22012 N22816 N15676 N41881 N34520 N1294',\n",
       "  'Impression': 'N58410-0 N53696-0 N51797-0 N64482-0 N4936-0 N10642-0 N42597-0 N15761-0 N20486-0 N30518-0 N57809-0 N59887-0 N39765-0 N41380-0 N45660-0 N24686-0 N59796-0 N25722-0 N23081-0 N30088-0 N61885-0 N40468-0 N44516-0 N31504-0 N38566-0 N9271-0 N20240-0 N41578-0 N16380-0 N54232-0 N22457-0 N57344-0 N57535-0 N55631-0 N26376-0 N16342-0 N58003-0 N5980-0 N357-1 N57342-0 N2869-0 N2350-0 N21479-0 N2-0 N1914-0 N8399-0 N62395-0 N29128-0 N57459-0 N20954-0 N46029-1 N20930-0 N15855-0 N16920-0 N61623-0 N37115-0 N43748-0 N57226-0 N555-0 N33848-0 N12800-0 N31370-0 N33619-0 N12028-0 N57713-0 N55204-0 N7466-0 N57005-0 N14440-0 N21882-0 N41222-0 N36789-0 N21-0 N19423-0 N62688-0 N64945-0 N47006-0 N12523-0 N43992-0 N56598-1'},\n",
       " {'Uid': 'U46641',\n",
       "  'Date': '11/14/2019 1:03:08 PM',\n",
       "  'History': 'N44598 N48076 N31248 N11673 N18106 N3128',\n",
       "  'Impression': 'N20270-0 N34185-0 N38779-1 N45523-0'}]"
      ]
     },
     "execution_count": 5,
     "metadata": {},
     "output_type": "execute_result"
    }
   ],
   "source": [
    "train_data[:2]"
   ]
  },
  {
   "cell_type": "code",
   "execution_count": 6,
   "metadata": {
    "ExecuteTime": {
     "end_time": "2021-05-05T15:31:46.107279Z",
     "start_time": "2021-05-05T15:31:46.102740Z"
    }
   },
   "outputs": [
    {
     "data": {
      "text/plain": [
       "[{'Nid': 'N55528',\n",
       "  'Category': 'lifestyle',\n",
       "  'SubCategory': 'lifestyleroyals',\n",
       "  'Title': 'The Brands Queen Elizabeth, Prince Charles, and Prince Philip Swear By',\n",
       "  'Abstract': \"Shop the notebooks, jackets, and more that the royals can't live without.\"},\n",
       " {'Nid': 'N19639',\n",
       "  'Category': 'health',\n",
       "  'SubCategory': 'weightloss',\n",
       "  'Title': '50 Worst Habits For Belly Fat',\n",
       "  'Abstract': 'These seemingly harmless habits are holding you back and keeping you from shedding that unwanted belly fat for good.'}]"
      ]
     },
     "execution_count": 6,
     "metadata": {},
     "output_type": "execute_result"
    }
   ],
   "source": [
    "train_news_data[:2]"
   ]
  },
  {
   "cell_type": "code",
   "execution_count": 7,
   "metadata": {
    "ExecuteTime": {
     "end_time": "2021-05-05T15:31:46.113435Z",
     "start_time": "2021-05-05T15:31:46.109576Z"
    }
   },
   "outputs": [
    {
     "data": {
      "text/plain": [
       "[{'Uid': 'U21693',\n",
       "  'Date': '11/15/2019 6:52:40 AM',\n",
       "  'History': 'N770 N50047 N4020 N306 N64467 N4607 N41449',\n",
       "  'Impression': 'N11930 N7419 N60747 N41946 N7342 N23513 N31958 N62318 N5940 N36940 N36779 N43646 N51793 N6916 N53242 N30290 N23767 N42844 N42233 N35216 N48487 N13408 N10423 N46976 N42767 N13865 N46162 N32536 N20187 N36786 N27738 N27057 N24109 N6638 N40656 N20036 N13556 N42670'},\n",
       " {'Uid': 'U25377',\n",
       "  'Date': '11/15/2019 5:44:39 AM',\n",
       "  'History': 'N24302 N6385 N49997 N33371 N47121 N11917 N52096 N10646 N60595 N10059 N54932 N37669 N35637 N28467 N4830 N11701 N11701 N4830 N35637 N59231 N17176 N14340 N54099 N21260 N53520 N13669 N2939 N54959 N58715 N29249 N58091 N21851 N19638 N48492 N13605 N47525 N55310 N61681 N39235 N59496 N63239 N49159 N61681 N64049 N44598 N61018 N4060 N63633 N38865 N36691 N7158 N43132 N27424 N40704 N43132 N26045 N8031 N28144 N49728 N43903 N61681 N23157 N3057 N17165 N23157 N28550 N61388 N27830 N49325 N59359 N40692 N33073 N32836 N59691 N16480 N26758 N5344 N43380 N30681 N38961 N5345 N6778 N48356 N38256 N20294 N7527 N24795 N55550 N58283 N27186 N30924 N17099 N40199 N19473 N33263 N16655 N21164 N26364 N53895 N49475 N32069 N25378 N16284 N11804 N16812 N1939 N7877 N56527 N18725 N1247 N63074 N38962 N18321 N40509 N6113 N14584 N23009 N30167 N59020',\n",
       "  'Impression': 'N34633 N60658 N41946 N23767 N5051 N16854 N57327 N32237 N49712 N32708 N30290 N2852 N47572 N7342 N55084 N20036 N40403 N11930 N42950 N28413'}]"
      ]
     },
     "execution_count": 7,
     "metadata": {},
     "output_type": "execute_result"
    }
   ],
   "source": [
    "test_data[:2]"
   ]
  },
  {
   "cell_type": "code",
   "execution_count": 8,
   "metadata": {
    "ExecuteTime": {
     "end_time": "2021-05-05T15:31:46.126471Z",
     "start_time": "2021-05-05T15:31:46.116905Z"
    }
   },
   "outputs": [
    {
     "data": {
      "text/plain": [
       "[{'Nid': 'N55528',\n",
       "  'Category': 'lifestyle',\n",
       "  'SubCategory': 'lifestyleroyals',\n",
       "  'Title': 'The Brands Queen Elizabeth, Prince Charles, and Prince Philip Swear By',\n",
       "  'Abstract': \"Shop the notebooks, jackets, and more that the royals can't live without.\"},\n",
       " {'Nid': 'N18955',\n",
       "  'Category': 'health',\n",
       "  'SubCategory': 'medical',\n",
       "  'Title': \"Dispose of unwanted prescription drugs during the DEA's Take Back Day\",\n",
       "  'Abstract': ''}]"
      ]
     },
     "execution_count": 8,
     "metadata": {},
     "output_type": "execute_result"
    }
   ],
   "source": [
    "test_news_data[:2]"
   ]
  },
  {
   "cell_type": "markdown",
   "metadata": {},
   "source": [
    "# 基于内容的DNN模型"
   ]
  },
  {
   "cell_type": "markdown",
   "metadata": {},
   "source": [
    "## 生成数据"
   ]
  },
  {
   "cell_type": "code",
   "execution_count": 9,
   "metadata": {
    "ExecuteTime": {
     "end_time": "2021-05-05T15:31:46.159506Z",
     "start_time": "2021-05-05T15:31:46.129518Z"
    }
   },
   "outputs": [
    {
     "data": {
      "text/plain": [
       "['kids',\n",
       " 'northamerica',\n",
       " 'lifestyle',\n",
       " 'sports',\n",
       " 'news',\n",
       " 'video',\n",
       " 'travel',\n",
       " 'music',\n",
       " 'games',\n",
       " 'weather',\n",
       " 'entertainment',\n",
       " 'finance',\n",
       " 'autos',\n",
       " 'health',\n",
       " 'movies',\n",
       " 'tv',\n",
       " 'foodanddrink',\n",
       " 'middleeast']"
      ]
     },
     "execution_count": 9,
     "metadata": {},
     "output_type": "execute_result"
    }
   ],
   "source": [
    "# feature\n",
    "# 每一个feature实际上是其各种浏览内容的几个部分组成：\n",
    "#1.最关注的3个Category \n",
    "#2.Abstract与Title进行词过滤后最热的n个词汇，并进行word emdbedding\n",
    "\n",
    "# 生成类别集合，方便下面数据转换\n",
    "news_Category_set = []\n",
    "for i in train_news_data:\n",
    "    news_Category_set.append(i['Category'])\n",
    "for i in test_news_data:\n",
    "    news_Category_set.append(i['Category'])\n",
    "news_Category_set = list(set(news_Category_set))\n",
    "news_Category_set "
   ]
  },
  {
   "cell_type": "code",
   "execution_count": 10,
   "metadata": {
    "ExecuteTime": {
     "end_time": "2021-05-05T15:33:18.330477Z",
     "start_time": "2021-05-05T15:31:46.162067Z"
    }
   },
   "outputs": [],
   "source": [
    "#生成feature1，Category\n",
    "feature_c_m = []\n",
    "for i in train_data[:200]:\n",
    "    m = []#中介容器,每一个数据清空一次\n",
    "    for j in i['History'].split(' '):\n",
    "        for h in range(len(news_data)):\n",
    "            if j == news_data[h]['Nid'].strip(' '):\n",
    "                j = news_data[h]['Category']\n",
    "            else:\n",
    "                pass\n",
    "        m.append(news_Category_set.index(j))\n",
    "    feature_c_m.append(m)"
   ]
  },
  {
   "cell_type": "code",
   "execution_count": 11,
   "metadata": {
    "ExecuteTime": {
     "end_time": "2021-05-05T15:33:18.336741Z",
     "start_time": "2021-05-05T15:33:18.332559Z"
    }
   },
   "outputs": [],
   "source": [
    "# 筛选出出现最高的三个类型\n",
    "def select_3(arr):\n",
    "    result = {}\n",
    "    for i in set(arr):\n",
    "        result[i] = arr.count(i)\n",
    "    d_order=sorted(result.items(),key=lambda x:x[1],reverse=False)\n",
    "    if len(d_order)>=3:\n",
    "        a =  [d_order[-3][0],d_order[-2][0],d_order[-1][0]]\n",
    "    else:\n",
    "        a = [100,100,100]\n",
    "    return a"
   ]
  },
  {
   "cell_type": "code",
   "execution_count": 12,
   "metadata": {
    "ExecuteTime": {
     "end_time": "2021-05-05T15:33:18.342665Z",
     "start_time": "2021-05-05T15:33:18.338666Z"
    }
   },
   "outputs": [],
   "source": [
    "feature_c = []\n",
    "for i in feature_c_m:\n",
    "    feature_c.append(select_3(i))"
   ]
  },
  {
   "cell_type": "code",
   "execution_count": 13,
   "metadata": {
    "ExecuteTime": {
     "end_time": "2021-05-05T15:34:54.382254Z",
     "start_time": "2021-05-05T15:33:18.344630Z"
    }
   },
   "outputs": [],
   "source": [
    "#生成feature2，词嵌入\n",
    "feature_w_m = []\n",
    "for i in data[:200]:\n",
    "    m = ''#中介容器,每一个数据清空一次\n",
    "    for j in i['History'].split(' '):\n",
    "        for h in range(len(news_data)):\n",
    "            if j == news_data[h]['Nid'].strip(' '):\n",
    "                a = news_data[h]['Abstract']\n",
    "                b = news_data[h]['Title']\n",
    "            else:\n",
    "                pass\n",
    "        m = a+b\n",
    "    feature_w_m.append(m)"
   ]
  },
  {
   "cell_type": "code",
   "execution_count": 14,
   "metadata": {
    "ExecuteTime": {
     "end_time": "2021-05-05T15:34:56.099856Z",
     "start_time": "2021-05-05T15:34:54.384426Z"
    }
   },
   "outputs": [
    {
     "name": "stderr",
     "output_type": "stream",
     "text": [
      "Building prefix dict from the default dictionary ...\n",
      "Loading model from cache /var/folders/qn/mjlm3mc55w13qcd782l_k2r80000gn/T/jieba.cache\n",
      "Loading model cost 0.585 seconds.\n",
      "Prefix dict has been built successfully.\n"
     ]
    }
   ],
   "source": [
    "from gensim.models import word2vec\n",
    "import gensim\n",
    "import jieba\n",
    "import jieba.analyse\n",
    "words_ls = []\n",
    "for i in feature_w_m:\n",
    "    words = jieba.analyse.extract_tags(i, topK=5)\n",
    "    words_ls.append(words)\n",
    "#model = word2vec.Word2Vec(words_ls,size=12,window=2,min_count=1)\n",
    "#model.save('moxing.model')\n",
    "model = gensim.models.Word2Vec.load('moxing.model')"
   ]
  },
  {
   "cell_type": "code",
   "execution_count": 15,
   "metadata": {
    "ExecuteTime": {
     "end_time": "2021-05-05T15:34:56.106776Z",
     "start_time": "2021-05-05T15:34:56.102008Z"
    }
   },
   "outputs": [
    {
     "data": {
      "text/plain": [
       "200"
      ]
     },
     "execution_count": 15,
     "metadata": {},
     "output_type": "execute_result"
    }
   ],
   "source": [
    "len(feature_c)"
   ]
  },
  {
   "cell_type": "code",
   "execution_count": 16,
   "metadata": {
    "ExecuteTime": {
     "end_time": "2021-05-05T15:34:56.117062Z",
     "start_time": "2021-05-05T15:34:56.108733Z"
    }
   },
   "outputs": [],
   "source": [
    "feature_w = []\n",
    "\n",
    "for m in words_ls[0:len(train_data[:200])]:\n",
    "    mid3 = []\n",
    "    mid3.append(model.wv[m[0]].tolist())\n",
    "    mid3.append(model.wv[m[1]].tolist())\n",
    "    mid3.append(model.wv[m[2]].tolist())\n",
    "    mid3.append(model.wv[m[3]].tolist())\n",
    "    mid3.append(model.wv[m[4]].tolist())\n",
    "    feature_w.append(np.array(mid3).reshape(60).tolist())"
   ]
  },
  {
   "cell_type": "code",
   "execution_count": 17,
   "metadata": {
    "ExecuteTime": {
     "end_time": "2021-05-05T15:34:56.167361Z",
     "start_time": "2021-05-05T15:34:56.119115Z"
    }
   },
   "outputs": [],
   "source": [
    "# 生成label，并产生与之对应的feature\n",
    "feature_m = []\n",
    "label_m = []\n",
    "for i in train_data[:200]:\n",
    "    #print(train_data.index(i))\n",
    "    feature_mm = feature_c[train_data.index(i)] + list(feature_w[train_data.index(i)])\n",
    "    for j in i['Impression'].split(' '):\n",
    "        feature_m.append(np.array(feature_mm))\n",
    "        label_m.append(int(j[-1]))"
   ]
  },
  {
   "cell_type": "code",
   "execution_count": 18,
   "metadata": {
    "ExecuteTime": {
     "end_time": "2021-05-05T15:34:56.171979Z",
     "start_time": "2021-05-05T15:34:56.168834Z"
    }
   },
   "outputs": [
    {
     "data": {
      "text/plain": [
       "7576"
      ]
     },
     "execution_count": 18,
     "metadata": {},
     "output_type": "execute_result"
    }
   ],
   "source": [
    "len(feature_m)"
   ]
  },
  {
   "cell_type": "code",
   "execution_count": 19,
   "metadata": {
    "ExecuteTime": {
     "end_time": "2021-05-05T15:34:56.178565Z",
     "start_time": "2021-05-05T15:34:56.173823Z"
    }
   },
   "outputs": [],
   "source": [
    "n = 0\n",
    "m = 0\n",
    "feature = []\n",
    "label = []\n",
    "for i in range(len(feature_m)):\n",
    "    if (label_m[i] == 0) and (n>=30) and m<950:\n",
    "        feature.append(feature_m[i])\n",
    "        label.append(label_m[i])\n",
    "        m+=1\n",
    "    elif label_m[i] == 1 and n<30:\n",
    "        feature.append(feature_m[i])\n",
    "        label.append(label_m[i])\n",
    "        n+=1\n",
    "    else:\n",
    "        pass"
   ]
  },
  {
   "cell_type": "code",
   "execution_count": 20,
   "metadata": {
    "ExecuteTime": {
     "end_time": "2021-05-05T15:34:56.182986Z",
     "start_time": "2021-05-05T15:34:56.180143Z"
    }
   },
   "outputs": [
    {
     "data": {
      "text/plain": [
       "980"
      ]
     },
     "execution_count": 20,
     "metadata": {},
     "output_type": "execute_result"
    }
   ],
   "source": [
    "len(feature)"
   ]
  },
  {
   "cell_type": "code",
   "execution_count": 21,
   "metadata": {
    "ExecuteTime": {
     "end_time": "2021-05-05T15:34:58.080473Z",
     "start_time": "2021-05-05T15:34:56.184559Z"
    }
   },
   "outputs": [],
   "source": [
    "import tensorflow as tf\n",
    "from tensorflow.keras import layers, optimizers, Sequential, metrics,models,Input\n",
    "\n",
    "def get_tensor(feature_list, label_list):\n",
    "    x = tf.convert_to_tensor(feature_list)\n",
    "    y = tf.convert_to_tensor(label_list)\n",
    "    return x,y\n",
    "\n",
    "def preprocess(x,y):\n",
    "    #归一化\n",
    "    x = tf.cast(x,dtype=tf.float32)\n",
    "    y = tf.cast(y, dtype=tf.float32)\n",
    "    return x,y\n",
    "\n",
    "x_train, y_train = get_tensor(feature, label)\n",
    "#载入训练数据集\n",
    "db_train = tf.data.Dataset.from_tensor_slices((x_train, y_train))\n",
    "# # shuffle:打乱数据,map:数据预处理，batch:一次取喂入10样本训练\n",
    "db_train = db_train.shuffle(500).map(preprocess).batch(10)"
   ]
  },
  {
   "cell_type": "markdown",
   "metadata": {},
   "source": [
    "## 搭建模型"
   ]
  },
  {
   "cell_type": "code",
   "execution_count": 22,
   "metadata": {
    "ExecuteTime": {
     "end_time": "2021-05-05T15:34:58.119816Z",
     "start_time": "2021-05-05T15:34:58.082456Z"
    }
   },
   "outputs": [
    {
     "name": "stdout",
     "output_type": "stream",
     "text": [
      "Model: \"sequential\"\n",
      "_________________________________________________________________\n",
      "Layer (type)                 Output Shape              Param #   \n",
      "=================================================================\n",
      "dense (Dense)                (None, 16)                1024      \n",
      "_________________________________________________________________\n",
      "dense_1 (Dense)              (None, 8)                 136       \n",
      "_________________________________________________________________\n",
      "dense_2 (Dense)              (None, 1)                 9         \n",
      "=================================================================\n",
      "Total params: 1,169\n",
      "Trainable params: 1,169\n",
      "Non-trainable params: 0\n",
      "_________________________________________________________________\n"
     ]
    }
   ],
   "source": [
    "network = models.Sequential()\n",
    "network.add(layers.Dense(16, activation='relu'))\n",
    "network.add(layers.Dense(8))\n",
    "network.add(layers.Dense(1))\n",
    "network.build(input_shape=(None,63))\n",
    "optimizer = tf.keras.optimizers.RMSprop(0.01)\n",
    "network.compile(loss='mse',\n",
    "                optimizer=optimizer,\n",
    "                metrics=['mae', 'mse'])  # 指定评价指标为准备率\n",
    "# 模型训练\n",
    "network.summary()"
   ]
  },
  {
   "cell_type": "code",
   "execution_count": 23,
   "metadata": {
    "ExecuteTime": {
     "end_time": "2021-05-05T15:34:59.308197Z",
     "start_time": "2021-05-05T15:34:58.128810Z"
    }
   },
   "outputs": [
    {
     "name": "stdout",
     "output_type": "stream",
     "text": [
      "Epoch 1/10\n",
      "98/98 [==============================] - 0s 685us/step - loss: 1.3960 - mae: 0.4470 - mse: 1.3960\n",
      "Epoch 2/10\n",
      "98/98 [==============================] - 0s 695us/step - loss: 0.0882 - mae: 0.1041 - mse: 0.0882\n",
      "Epoch 3/10\n",
      "98/98 [==============================] - 0s 732us/step - loss: 0.0365 - mae: 0.0720 - mse: 0.0365\n",
      "Epoch 4/10\n",
      "98/98 [==============================] - 0s 698us/step - loss: 0.0305 - mae: 0.0615 - mse: 0.0305\n",
      "Epoch 5/10\n",
      "98/98 [==============================] - 0s 618us/step - loss: 0.0311 - mae: 0.0634 - mse: 0.0311 \n",
      "Epoch 6/10\n",
      "98/98 [==============================] - 0s 709us/step - loss: 0.0306 - mae: 0.0606 - mse: 0.0306\n",
      "Epoch 7/10\n",
      "98/98 [==============================] - 0s 627us/step - loss: 0.0300 - mae: 0.0597 - mse: 0.0300 \n",
      "Epoch 8/10\n",
      "98/98 [==============================] - 0s 719us/step - loss: 0.0305 - mae: 0.0614 - mse: 0.0305 \n",
      "Epoch 9/10\n",
      "98/98 [==============================] - 0s 689us/step - loss: 0.0299 - mae: 0.0586 - mse: 0.0299     \n",
      "Epoch 10/10\n",
      "98/98 [==============================] - 0s 663us/step - loss: 0.0298 - mae: 0.0602 - mse: 0.0298\n"
     ]
    }
   ],
   "source": [
    "# 模型装配\n",
    "network.fit(db_train,epochs=10)\n",
    "network.save('my_model.h5')"
   ]
  },
  {
   "cell_type": "markdown",
   "metadata": {},
   "source": [
    "## 模型应用"
   ]
  },
  {
   "cell_type": "code",
   "execution_count": 24,
   "metadata": {
    "ExecuteTime": {
     "end_time": "2021-05-05T15:34:59.315580Z",
     "start_time": "2021-05-05T15:34:59.312636Z"
    }
   },
   "outputs": [
    {
     "data": {
      "text/plain": [
       "2000"
      ]
     },
     "execution_count": 24,
     "metadata": {},
     "output_type": "execute_result"
    }
   ],
   "source": [
    "len(test_data)"
   ]
  },
  {
   "cell_type": "code",
   "execution_count": 25,
   "metadata": {
    "ExecuteTime": {
     "end_time": "2021-05-05T15:34:59.321865Z",
     "start_time": "2021-05-05T15:34:59.317755Z"
    }
   },
   "outputs": [
    {
     "data": {
      "text/plain": [
       "12000"
      ]
     },
     "execution_count": 25,
     "metadata": {},
     "output_type": "execute_result"
    }
   ],
   "source": [
    "len(data)"
   ]
  },
  {
   "cell_type": "markdown",
   "metadata": {
    "ExecuteTime": {
     "end_time": "2021-05-05T15:00:56.247864Z",
     "start_time": "2021-05-05T15:00:56.244709Z"
    }
   },
   "source": [
    "n = 2000\n",
    "count=0\n",
    "ls = []\n",
    "for i in range(n):\n",
    "    count+=len(test_data[i]['Impression'].split(' '))\n",
    "    ls.append(len(test_data[i]['Impression'].split(' ')))"
   ]
  },
  {
   "cell_type": "code",
   "execution_count": 26,
   "metadata": {
    "ExecuteTime": {
     "end_time": "2021-05-05T15:34:59.325987Z",
     "start_time": "2021-05-05T15:34:59.323817Z"
    }
   },
   "outputs": [],
   "source": [
    "#count"
   ]
  },
  {
   "cell_type": "code",
   "execution_count": 27,
   "metadata": {
    "ExecuteTime": {
     "end_time": "2021-05-05T15:34:59.460895Z",
     "start_time": "2021-05-05T15:34:59.328455Z"
    }
   },
   "outputs": [
    {
     "name": "stdout",
     "output_type": "stream",
     "text": [
      "Assignment-2.pdf           test_news.tsv\r\n",
      "CODE.ipynb                 \u001b[34mtrain\u001b[m\u001b[m/\r\n",
      "moxing.model               train.tsv\r\n",
      "my_model.h5                train_news.tsv\r\n",
      "\u001b[34mtest\u001b[m\u001b[m/                      第二次作业说明.pdf\r\n",
      "test.tsv\r\n"
     ]
    }
   ],
   "source": [
    "ls"
   ]
  },
  {
   "cell_type": "code",
   "execution_count": 28,
   "metadata": {
    "ExecuteTime": {
     "end_time": "2021-05-05T23:16:46.974866Z",
     "start_time": "2021-05-05T15:34:59.463279Z"
    }
   },
   "outputs": [
    {
     "ename": "KeyboardInterrupt",
     "evalue": "",
     "output_type": "error",
     "traceback": [
      "\u001b[0;31m---------------------------------------------------------------------------\u001b[0m",
      "\u001b[0;31mKeyboardInterrupt\u001b[0m                         Traceback (most recent call last)",
      "\u001b[0;32m<ipython-input-28-dc93ad761af1>\u001b[0m in \u001b[0;36m<module>\u001b[0;34m\u001b[0m\n\u001b[1;32m      5\u001b[0m     \u001b[0;32mfor\u001b[0m \u001b[0mj\u001b[0m \u001b[0;32min\u001b[0m \u001b[0mi\u001b[0m\u001b[0;34m[\u001b[0m\u001b[0;34m'History'\u001b[0m\u001b[0;34m]\u001b[0m\u001b[0;34m.\u001b[0m\u001b[0msplit\u001b[0m\u001b[0;34m(\u001b[0m\u001b[0;34m' '\u001b[0m\u001b[0;34m)\u001b[0m\u001b[0;34m:\u001b[0m\u001b[0;34m\u001b[0m\u001b[0;34m\u001b[0m\u001b[0m\n\u001b[1;32m      6\u001b[0m         \u001b[0;32mfor\u001b[0m \u001b[0mh\u001b[0m \u001b[0;32min\u001b[0m \u001b[0mrange\u001b[0m\u001b[0;34m(\u001b[0m\u001b[0mlen\u001b[0m\u001b[0;34m(\u001b[0m\u001b[0mnews_data\u001b[0m\u001b[0;34m)\u001b[0m\u001b[0;34m)\u001b[0m\u001b[0;34m:\u001b[0m\u001b[0;34m\u001b[0m\u001b[0;34m\u001b[0m\u001b[0m\n\u001b[0;32m----> 7\u001b[0;31m             \u001b[0;32mif\u001b[0m \u001b[0mj\u001b[0m \u001b[0;34m==\u001b[0m \u001b[0mnews_data\u001b[0m\u001b[0;34m[\u001b[0m\u001b[0mh\u001b[0m\u001b[0;34m]\u001b[0m\u001b[0;34m[\u001b[0m\u001b[0;34m'Nid'\u001b[0m\u001b[0;34m]\u001b[0m\u001b[0;34m.\u001b[0m\u001b[0mstrip\u001b[0m\u001b[0;34m(\u001b[0m\u001b[0;34m' '\u001b[0m\u001b[0;34m)\u001b[0m\u001b[0;34m:\u001b[0m\u001b[0;34m\u001b[0m\u001b[0;34m\u001b[0m\u001b[0m\n\u001b[0m\u001b[1;32m      8\u001b[0m                 \u001b[0mj\u001b[0m \u001b[0;34m=\u001b[0m \u001b[0mnews_data\u001b[0m\u001b[0;34m[\u001b[0m\u001b[0mh\u001b[0m\u001b[0;34m]\u001b[0m\u001b[0;34m[\u001b[0m\u001b[0;34m'Category'\u001b[0m\u001b[0;34m]\u001b[0m\u001b[0;34m\u001b[0m\u001b[0;34m\u001b[0m\u001b[0m\n\u001b[1;32m      9\u001b[0m             \u001b[0;32melse\u001b[0m\u001b[0;34m:\u001b[0m\u001b[0;34m\u001b[0m\u001b[0;34m\u001b[0m\u001b[0m\n",
      "\u001b[0;31mKeyboardInterrupt\u001b[0m: "
     ]
    }
   ],
   "source": [
    "#生成feature1，Category\n",
    "feature_c_m = []\n",
    "for i in test_data[:len(data)]:\n",
    "    m = []#中介容器,每一个数据清空一次\n",
    "    for j in i['History'].split(' '):\n",
    "        for h in range(len(news_data)):\n",
    "            if j == news_data[h]['Nid'].strip(' '):\n",
    "                j = news_data[h]['Category']\n",
    "            else:\n",
    "                pass\n",
    "        m.append(news_Category_set.index(j))\n",
    "    feature_c_m.append(m)\n",
    "\n",
    "feature_c = []\n",
    "for i in feature_c_m:\n",
    "    feature_c.append(select_3(i))"
   ]
  },
  {
   "cell_type": "code",
   "execution_count": null,
   "metadata": {
    "ExecuteTime": {
     "end_time": "2021-05-05T23:16:46.990705Z",
     "start_time": "2021-05-05T15:31:45.126Z"
    }
   },
   "outputs": [],
   "source": [
    "#生成feature2，词嵌入\n",
    "feature_w_m = []\n",
    "for i in test_data[:len(data)]:\n",
    "    m = ''#中介容器,每一个数据清空一次\n",
    "    for j in i['History'].split(' '):\n",
    "        for h in range(len(news_data)):\n",
    "            if j == news_data[h]['Nid'].strip(' '):\n",
    "                a = news_data[h]['Abstract']\n",
    "                b = news_data[h]['Title']\n",
    "            else:\n",
    "                pass\n",
    "        m = a+b\n",
    "    feature_w_m.append(m)\n",
    "    \n",
    "for i in feature_w_m:\n",
    "    words = jieba.analyse.extract_tags(i, topK=5)\n",
    "    words_ls.append(words)\n",
    "feature_w = []"
   ]
  },
  {
   "cell_type": "code",
   "execution_count": null,
   "metadata": {
    "ExecuteTime": {
     "end_time": "2021-05-05T23:16:46.992359Z",
     "start_time": "2021-05-05T15:31:45.128Z"
    }
   },
   "outputs": [],
   "source": [
    "for m in words_ls[0:len(train_data[:count])]:\n",
    "    mid3 = []\n",
    "    mid3.append(model.wv[m[0]].tolist())\n",
    "    mid3.append(model.wv[m[1]].tolist())\n",
    "    mid3.append(model.wv[m[2]].tolist())\n",
    "    mid3.append(model.wv[m[3]].tolist())\n",
    "    mid3.append(model.wv[m[4]].tolist())\n",
    "    feature_w.append(np.array(mid3).reshape(60).tolist())"
   ]
  },
  {
   "cell_type": "code",
   "execution_count": null,
   "metadata": {
    "ExecuteTime": {
     "end_time": "2021-05-05T23:16:46.993379Z",
     "start_time": "2021-05-05T15:31:45.129Z"
    }
   },
   "outputs": [],
   "source": [
    "# 生成label，并产生与之对应的feature\n",
    "feature_m = []\n",
    "label_m = []\n",
    "for i in train_data[:count]:\n",
    "    #print(train_data.index(i))\n",
    "    feature_mm = feature_c[train_data.index(i)] + list(feature_w[train_data.index(i)])\n",
    "    for j in i['Impression'].split(' '):\n",
    "        feature_m.append(np.array(feature_mm))\n",
    "        label_m.append(int(j[-1]))\n",
    "\n",
    "x_test, y_test = get_tensor(feature_m, label_m)"
   ]
  },
  {
   "cell_type": "code",
   "execution_count": null,
   "metadata": {
    "ExecuteTime": {
     "end_time": "2021-05-05T23:16:46.994475Z",
     "start_time": "2021-05-05T15:31:45.131Z"
    }
   },
   "outputs": [],
   "source": [
    "def p(x):\n",
    "    y = tf.convert_to_tensor(x)\n",
    "    z = tf.cast(y,dtype=tf.float32)\n",
    "    return z\n",
    "\n",
    "def panduan(x):\n",
    "    if x>0.5:\n",
    "        x=1\n",
    "    else:\n",
    "        x=0\n",
    "    return x\n",
    "\n",
    "result = []\n",
    "for i in range(142):\n",
    "    result.append(panduan(network.predict(p([x_test[i]]))))"
   ]
  },
  {
   "cell_type": "code",
   "execution_count": null,
   "metadata": {
    "ExecuteTime": {
     "end_time": "2021-05-05T23:16:46.995536Z",
     "start_time": "2021-05-05T15:31:45.132Z"
    }
   },
   "outputs": [],
   "source": [
    "result"
   ]
  },
  {
   "cell_type": "code",
   "execution_count": null,
   "metadata": {
    "ExecuteTime": {
     "end_time": "2021-05-05T23:16:46.996937Z",
     "start_time": "2021-05-05T15:31:45.134Z"
    }
   },
   "outputs": [],
   "source": [
    "n = 0\n",
    "appends = []\n",
    "for i in ls:\n",
    "    appends.append(result[n:n+i])\n",
    "    n = n + i\n",
    "appends"
   ]
  },
  {
   "cell_type": "code",
   "execution_count": null,
   "metadata": {
    "ExecuteTime": {
     "end_time": "2021-05-05T23:16:46.998171Z",
     "start_time": "2021-05-05T15:31:45.135Z"
    }
   },
   "outputs": [],
   "source": [
    "def ls2str(ls):\n",
    "    m = ''\n",
    "    for i in ls:\n",
    "        m+=i\n",
    "    return m\n",
    "new_data = []\n",
    "columns = []\n",
    "for i in range(len(appends)):\n",
    "    a = test_data[i]\n",
    "    a['test'] = ls2str(appends[i])\n",
    "    new_data[].append(a) \n",
    "    columns.append(i)"
   ]
  },
  {
   "cell_type": "code",
   "execution_count": null,
   "metadata": {
    "ExecuteTime": {
     "end_time": "2021-05-05T23:16:46.999786Z",
     "start_time": "2021-05-05T15:31:45.137Z"
    }
   },
   "outputs": [],
   "source": [
    "def write_to_tsv(output_path: str, file_columns: list, data: list):\n",
    "    csv.register_dialect('tsv_dialect', delimiter='\\t', quoting=csv.QUOTE_ALL)\n",
    "    with open(output_path, \"w\", newline=\"\") as wf:\n",
    "        writer = csv.DictWriter(wf, fieldnames=file_columns, dialect='tsv_dialect')\n",
    "        writer.writerows(data)\n",
    "    csv.unregister_dialect('tsv_dialect')"
   ]
  },
  {
   "cell_type": "code",
   "execution_count": null,
   "metadata": {
    "ExecuteTime": {
     "end_time": "2021-05-05T23:16:47.001396Z",
     "start_time": "2021-05-05T15:31:45.138Z"
    }
   },
   "outputs": [],
   "source": [
    "write_to_tsv('result.tsv',columns,new_data)"
   ]
  },
  {
   "cell_type": "code",
   "execution_count": null,
   "metadata": {},
   "outputs": [],
   "source": []
  }
 ],
 "metadata": {
  "kernelspec": {
   "display_name": "Python 3",
   "language": "python",
   "name": "python3"
  },
  "toc": {
   "base_numbering": 1,
   "nav_menu": {},
   "number_sections": true,
   "sideBar": true,
   "skip_h1_title": false,
   "title_cell": "Table of Contents",
   "title_sidebar": "Contents",
   "toc_cell": false,
   "toc_position": {},
   "toc_section_display": true,
   "toc_window_display": false
  },
  "varInspector": {
   "cols": {
    "lenName": 16,
    "lenType": 16,
    "lenVar": 40
   },
   "kernels_config": {
    "python": {
     "delete_cmd_postfix": "",
     "delete_cmd_prefix": "del ",
     "library": "var_list.py",
     "varRefreshCmd": "print(var_dic_list())"
    },
    "r": {
     "delete_cmd_postfix": ") ",
     "delete_cmd_prefix": "rm(",
     "library": "var_list.r",
     "varRefreshCmd": "cat(var_dic_list()) "
    }
   },
   "types_to_exclude": [
    "module",
    "function",
    "builtin_function_or_method",
    "instance",
    "_Feature"
   ],
   "window_display": false
  }
 },
 "nbformat": 4,
 "nbformat_minor": 2
}
