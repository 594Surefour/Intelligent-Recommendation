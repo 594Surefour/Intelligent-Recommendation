{
 "cells": [
  {
   "cell_type": "code",
   "execution_count": 1,
   "metadata": {
    "scrolled": true
   },
   "outputs": [],
   "source": [
    "%matplotlib inline\n",
    "\n",
    "from movielens import MovieLens\n",
    "from linUCB import LinUCB\n",
    "import numpy as np\n",
    "import matplotlib.pyplot as plt"
   ]
  },
  {
   "cell_type": "code",
   "execution_count": 2,
   "metadata": {
    "scrolled": true
   },
   "outputs": [
    {
     "name": "stdout",
     "output_type": "stream",
     "text": [
      "data\\movielens\\ml-100k.zip is already downloaded.\n",
      "创建评分矩阵，长宽为=(943, 1682)，并且类型为=float64，采自文件 u.data.\n",
      "正面的评分 (>=4) 记为 1, 负面的评分记为 -1, 不确定的评分记为 0\n",
      "创建电影种类矩阵，长宽为=(1682, 19)，并且类型为=float64，采自文件 u.item\n",
      "创建电影名称矩阵，长宽为=(1682,)，并且类型为=object，采自文件 u.item\n",
      "self.R的统计数据：\n",
      "用户数量:                 943\n",
      "实例数量:                 1682\n",
      "评分条数:                 1586126\n",
      "已知评分:                 100000\n",
      "已知正面评分:             55375\n",
      "已知负面评分:             44625\n",
      "已知评分占比:             0.06304669364224531\n",
      "已知正面评分占比:         0.034912106604393346\n",
      "已知负面评分占比:         0.028134587037851974\n",
      "用户正面评价均值: 58.72216330858961 +- 54.67211827074995\n",
      "用户负面评价均值: 47.32237539766702 +- 58.41143787053165\n",
      "Shrinked rating matrix from (943, 1682) to (56, 100).\n",
      "\n",
      "After shrinking:\n",
      "用户数量:                 56\n",
      "实例数量:                 100\n",
      "评分条数:                 5600\n",
      "已知评分:                 903\n",
      "已知正面评分:             606\n",
      "已知负面评分:             297\n",
      "已知评分占比:             0.16125\n",
      "已知正面评分占比:         0.10821428571428572\n",
      "已知负面评分占比:         0.05303571428571428\n",
      "用户正面评价均值: 10.821428571428571 +- 11.918034268130233\n",
      "用户负面评价均值: 5.303571428571429 +- 8.209140469312118\n",
      "\n",
      "初始化矩阵 A (100, 119, 119) 并且消耗了 11.3288MB 的内存\n",
      "\n",
      "成功初始化LinUCB\n"
     ]
    }
   ],
   "source": [
    "ucb = LinUCB(alpha=0.1, dataset=None, max_items=100, allow_selecting_known_arms=True)"
   ]
  },
  {
   "cell_type": "code",
   "execution_count": 3,
   "metadata": {
    "scrolled": true
   },
   "outputs": [
    {
     "name": "stdout",
     "output_type": "stream",
     "text": [
      "R:\n",
      " [[ 1. -1.  1. ...  1. -1.  1.]\n",
      " [ 1.  0.  0. ...  0.  0.  1.]\n",
      " [ 0.  0.  0. ...  0.  0.  0.]\n",
      " ...\n",
      " [ 1.  0.  0. ...  0.  0.  1.]\n",
      " [ 0.  0.  0. ...  0.  0.  0.]\n",
      " [ 1.  0.  0. ...  1.  0.  0.]]\n"
     ]
    }
   ],
   "source": [
    "print('R:\\n', ucb.dataset.R)"
   ]
  },
  {
   "cell_type": "code",
   "execution_count": 4,
   "metadata": {
    "scrolled": true
   },
   "outputs": [
    {
     "name": "stdout",
     "output_type": "stream",
     "text": [
      "完成 epoch 0/50 ，平均奖励为 0.25 ，运行时间为 21.768771171569824s\n",
      "完成 epoch 1/50 ，平均奖励为 0.6964285714285714 ，运行时间为 21.11252737045288s\n",
      "完成 epoch 2/50 ，平均奖励为 0.7142857142857143 ，运行时间为 20.643781423568726s\n",
      "完成 epoch 3/50 ，平均奖励为 0.7142857142857143 ，运行时间为 22.041095733642578s\n",
      "完成 epoch 4/50 ，平均奖励为 0.75 ，运行时间为 20.193995475769043s\n",
      "完成 epoch 5/50 ，平均奖励为 0.75 ，运行时间为 20.026432275772095s\n",
      "完成 epoch 6/50 ，平均奖励为 0.8035714285714286 ，运行时间为 22.287386178970337s\n",
      "完成 epoch 7/50 ，平均奖励为 0.8035714285714286 ，运行时间为 20.93899178504944s\n",
      "完成 epoch 8/50 ，平均奖励为 0.8214285714285714 ，运行时间为 21.10953426361084s\n",
      "完成 epoch 9/50 ，平均奖励为 0.8035714285714286 ，运行时间为 21.6571946144104s\n",
      "完成 epoch 10/50 ，平均奖励为 0.8035714285714286 ，运行时间为 20.85122561454773s\n",
      "完成 epoch 11/50 ，平均奖励为 0.8214285714285714 ，运行时间为 21.7259464263916s\n",
      "完成 epoch 12/50 ，平均奖励为 0.8571428571428571 ，运行时间为 21.218244314193726s\n",
      "完成 epoch 13/50 ，平均奖励为 0.8571428571428571 ，运行时间为 20.199713706970215s\n",
      "完成 epoch 14/50 ，平均奖励为 0.8214285714285714 ，运行时间为 22.05810832977295s\n",
      "完成 epoch 15/50 ，平均奖励为 0.8571428571428571 ，运行时间为 22.11285138130188s\n",
      "完成 epoch 16/50 ，平均奖励为 0.875 ，运行时间为 20.28877305984497s\n",
      "完成 epoch 17/50 ，平均奖励为 0.8928571428571429 ，运行时间为 20.296790838241577s\n",
      "完成 epoch 18/50 ，平均奖励为 0.8392857142857143 ，运行时间为 20.773455142974854s\n",
      "完成 epoch 19/50 ，平均奖励为 0.8392857142857143 ，运行时间为 20.976932287216187s\n",
      "完成 epoch 20/50 ，平均奖励为 0.875 ，运行时间为 21.292622327804565s\n",
      "完成 epoch 21/50 ，平均奖励为 0.8928571428571429 ，运行时间为 21.3304762840271s\n",
      "完成 epoch 22/50 ，平均奖励为 0.8928571428571429 ，运行时间为 21.743358850479126s\n",
      "完成 epoch 23/50 ，平均奖励为 0.8571428571428571 ，运行时间为 21.017852783203125s\n",
      "完成 epoch 24/50 ，平均奖励为 0.875 ，运行时间为 21.44326376914978s\n",
      "完成 epoch 25/50 ，平均奖励为 0.875 ，运行时间为 22.550743579864502s\n",
      "完成 epoch 26/50 ，平均奖励为 0.8928571428571429 ，运行时间为 20.43035316467285s\n",
      "完成 epoch 27/50 ，平均奖励为 0.8928571428571429 ，运行时间为 21.9303719997406s\n",
      "完成 epoch 28/50 ，平均奖励为 0.8571428571428571 ，运行时间为 20.509297847747803s\n",
      "完成 epoch 29/50 ，平均奖励为 0.875 ，运行时间为 20.394480228424072s\n",
      "完成 epoch 30/50 ，平均奖励为 0.875 ，运行时间为 20.6059467792511s\n",
      "完成 epoch 31/50 ，平均奖励为 0.8928571428571429 ，运行时间为 22.049022912979126s\n",
      "完成 epoch 32/50 ，平均奖励为 0.8928571428571429 ，运行时间为 20.11225962638855s\n",
      "完成 epoch 33/50 ，平均奖励为 0.875 ，运行时间为 21.044240951538086s\n",
      "完成 epoch 34/50 ，平均奖励为 0.8571428571428571 ，运行时间为 21.031788110733032s\n",
      "完成 epoch 35/50 ，平均奖励为 0.8571428571428571 ，运行时间为 20.851301908493042s\n",
      "完成 epoch 36/50 ，平均奖励为 0.8928571428571429 ，运行时间为 21.833598613739014s\n",
      "完成 epoch 37/50 ，平均奖励为 0.875 ，运行时间为 22.076157093048096s\n",
      "完成 epoch 38/50 ，平均奖励为 0.8928571428571429 ，运行时间为 21.10155725479126s\n",
      "完成 epoch 39/50 ，平均奖励为 0.8928571428571429 ，运行时间为 21.952280282974243s\n",
      "完成 epoch 40/50 ，平均奖励为 0.8928571428571429 ，运行时间为 21.04969549179077s\n",
      "完成 epoch 41/50 ，平均奖励为 0.875 ，运行时间为 20.76046895980835s\n",
      "完成 epoch 42/50 ，平均奖励为 0.8571428571428571 ，运行时间为 21.43865442276001s\n",
      "完成 epoch 43/50 ，平均奖励为 0.8928571428571429 ，运行时间为 21.407737255096436s\n",
      "完成 epoch 44/50 ，平均奖励为 0.8928571428571429 ，运行时间为 23.491164684295654s\n",
      "完成 epoch 45/50 ，平均奖励为 0.8928571428571429 ，运行时间为 20.964012622833252s\n",
      "完成 epoch 46/50 ，平均奖励为 0.875 ，运行时间为 21.858685731887817s\n",
      "完成 epoch 47/50 ，平均奖励为 0.8928571428571429 ，运行时间为 22.724265098571777s\n",
      "完成 epoch 48/50 ，平均奖励为 0.8928571428571429 ，运行时间为 21.405742406845093s\n",
      "完成 epoch 49/50 ，平均奖励为 0.8928571428571429 ，运行时间为 19.62849760055542s\n"
     ]
    }
   ],
   "source": [
    "avg_reward = ucb.run(num_epochs=50)"
   ]
  },
  {
   "cell_type": "code",
   "execution_count": 5,
   "metadata": {},
   "outputs": [
    {
     "data": {
      "text/plain": [
       "Text(0.5, 1.0, 'LinUCB: Fixed rewards')"
      ]
     },
     "execution_count": 5,
     "metadata": {},
     "output_type": "execute_result"
    },
    {
     "data": {
      "image/png": "[encoded data removed]",
      "text/plain": [
       "<Figure size 504x360 with 1 Axes>"
      ]
     },
     "metadata": {
      "needs_background": "light"
     },
     "output_type": "display_data"
    }
   ],
   "source": [
    "from matplotlib.pylab import rcParams\n",
    "rcParams['figure.figsize'] = 7, 5\n",
    "plt.plot(range(len(avg_reward)), avg_reward)\n",
    "plt.ylabel('average reward in epoch')\n",
    "plt.ylim(0.2, 1)\n",
    "plt.xlabel('epoch (1 epoch = recommended to all users)')\n",
    "plt.title('LinUCB: Fixed rewards')"
   ]
  },
  {
   "cell_type": "code",
   "execution_count": 6,
   "metadata": {},
   "outputs": [
    {
     "name": "stdout",
     "output_type": "stream",
     "text": [
      "data\\movielens\\ml-100k.zip is already downloaded.\n",
      "创建评分矩阵，长宽为=(943, 1682)，并且类型为=float64，采自文件 u.data.\n",
      "正面的评分 (>=4) 记为 1, 负面的评分记为 -1, 不确定的评分记为 0\n",
      "创建电影种类矩阵，长宽为=(1682, 19)，并且类型为=float64，采自文件 u.item\n",
      "创建电影名称矩阵，长宽为=(1682,)，并且类型为=object，采自文件 u.item\n",
      "self.R的统计数据：\n",
      "用户数量:                 943\n",
      "实例数量:                 1682\n",
      "评分条数:                 1586126\n",
      "已知评分:                 100000\n",
      "已知正面评分:             55375\n",
      "已知负面评分:             44625\n",
      "已知评分占比:             0.06304669364224531\n",
      "已知正面评分占比:         0.034912106604393346\n",
      "已知负面评分占比:         0.028134587037851974\n",
      "用户正面评价均值: 58.72216330858961 +- 54.67211827074995\n",
      "用户负面评价均值: 47.32237539766702 +- 58.41143787053165\n",
      "Shrinked rating matrix from (943, 1682) to (56, 100).\n",
      "\n",
      "After shrinking:\n",
      "用户数量:                 56\n",
      "实例数量:                 100\n",
      "评分条数:                 5600\n",
      "已知评分:                 903\n",
      "已知正面评分:             606\n",
      "已知负面评分:             297\n",
      "已知评分占比:             0.16125\n",
      "已知正面评分占比:         0.10821428571428572\n",
      "已知负面评分占比:         0.05303571428571428\n",
      "用户正面评价均值: 10.821428571428571 +- 11.918034268130233\n",
      "用户负面评价均值: 5.303571428571429 +- 8.209140469312118\n",
      "\n",
      "初始化矩阵 A (100, 119, 119) 并且消耗了 11.3288MB 的内存\n",
      "\n",
      "成功初始化LinUCB\n"
     ]
    }
   ],
   "source": [
    "ucb_stochastic = LinUCB(alpha=0.1, dataset=None, max_items=100, \n",
    "                        allow_selecting_known_arms=True, fixed_rewards=False, prob_reward_p=0.9)"
   ]
  },
  {
   "cell_type": "code",
   "execution_count": 7,
   "metadata": {},
   "outputs": [
    {
     "name": "stdout",
     "output_type": "stream",
     "text": [
      "R:\n",
      " [[ 1. -1.  1. ...  1. -1.  1.]\n",
      " [ 1.  0.  0. ...  0.  0.  1.]\n",
      " [ 0.  0.  0. ...  0.  0.  0.]\n",
      " ...\n",
      " [ 1.  0.  0. ...  0.  0.  1.]\n",
      " [ 0.  0.  0. ...  0.  0.  0.]\n",
      " [ 1.  0.  0. ...  1.  0.  0.]]\n"
     ]
    }
   ],
   "source": [
    "print('R:\\n', ucb_stochastic.dataset.R)"
   ]
  },
  {
   "cell_type": "code",
   "execution_count": 8,
   "metadata": {},
   "outputs": [
    {
     "name": "stdout",
     "output_type": "stream",
     "text": [
      "完成 epoch 0/50 ，平均奖励为 0.4642857142857143 ，运行时间为 21.987186431884766s\n",
      "完成 epoch 1/50 ，平均奖励为 0.5178571428571429 ，运行时间为 20.793521642684937s\n",
      "完成 epoch 2/50 ，平均奖励为 0.6071428571428571 ，运行时间为 20.519245147705078s\n",
      "完成 epoch 3/50 ，平均奖励为 0.6607142857142857 ，运行时间为 19.862024545669556s\n",
      "完成 epoch 4/50 ，平均奖励为 0.5714285714285714 ，运行时间为 20.529088258743286s\n",
      "完成 epoch 5/50 ，平均奖励为 0.625 ，运行时间为 21.732868194580078s\n",
      "完成 epoch 6/50 ，平均奖励为 0.6428571428571429 ，运行时间为 20.396482706069946s\n",
      "完成 epoch 7/50 ，平均奖励为 0.6964285714285714 ，运行时间为 20.51317262649536s\n",
      "完成 epoch 8/50 ，平均奖励为 0.625 ，运行时间为 21.102553367614746s\n",
      "完成 epoch 9/50 ，平均奖励为 0.7142857142857143 ，运行时间为 23.182241439819336s\n",
      "完成 epoch 10/50 ，平均奖励为 0.6785714285714286 ，运行时间为 20.16707730293274s\n",
      "完成 epoch 11/50 ，平均奖励为 0.6428571428571429 ，运行时间为 21.763785362243652s\n",
      "完成 epoch 12/50 ，平均奖励为 0.6964285714285714 ，运行时间为 20.376495838165283s\n",
      "完成 epoch 13/50 ，平均奖励为 0.6428571428571429 ，运行时间为 21.067647695541382s\n",
      "完成 epoch 14/50 ，平均奖励为 0.75 ，运行时间为 20.09724259376526s\n",
      "完成 epoch 15/50 ，平均奖励为 0.7321428571428571 ，运行时间为 21.023764610290527s\n",
      "完成 epoch 16/50 ，平均奖励为 0.6964285714285714 ，运行时间为 19.88181972503662s\n",
      "完成 epoch 17/50 ，平均奖励为 0.7321428571428571 ，运行时间为 20.648856163024902s\n",
      "完成 epoch 18/50 ，平均奖励为 0.7142857142857143 ，运行时间为 21.66211986541748s\n",
      "完成 epoch 19/50 ，平均奖励为 0.7321428571428571 ，运行时间为 20.85720992088318s\n",
      "完成 epoch 20/50 ，平均奖励为 0.7321428571428571 ，运行时间为 19.987536668777466s\n",
      "完成 epoch 21/50 ，平均奖励为 0.75 ，运行时间为 20.00947642326355s\n",
      "完成 epoch 22/50 ，平均奖励为 0.75 ，运行时间为 21.9044086933136s\n",
      "完成 epoch 23/50 ，平均奖励为 0.6964285714285714 ，运行时间为 22.034063577651978s\n",
      "完成 epoch 24/50 ，平均奖励为 0.7321428571428571 ，运行时间为 19.974570989608765s\n",
      "完成 epoch 25/50 ，平均奖励为 0.8214285714285714 ，运行时间为 21.47954559326172s\n",
      "完成 epoch 26/50 ，平均奖励为 0.7321428571428571 ，运行时间为 20.140185117721558s\n",
      "完成 epoch 27/50 ，平均奖励为 0.7857142857142857 ，运行时间为 20.185062885284424s\n",
      "完成 epoch 28/50 ，平均奖励为 0.7857142857142857 ，运行时间为 21.07777452468872s\n",
      "完成 epoch 29/50 ，平均奖励为 0.8035714285714286 ，运行时间为 20.601930379867554s\n",
      "完成 epoch 30/50 ，平均奖励为 0.625 ，运行时间为 20.32962155342102s\n",
      "完成 epoch 31/50 ，平均奖励为 0.7678571428571429 ，运行时间为 21.10355281829834s\n",
      "完成 epoch 32/50 ，平均奖励为 0.7857142857142857 ，运行时间为 22.083062410354614s\n",
      "完成 epoch 33/50 ，平均奖励为 0.75 ，运行时间为 20.290725231170654s\n",
      "完成 epoch 34/50 ，平均奖励为 0.8571428571428571 ，运行时间为 20.719578742980957s\n",
      "完成 epoch 35/50 ，平均奖励为 0.75 ，运行时间为 21.237193822860718s\n",
      "完成 epoch 36/50 ，平均奖励为 0.7857142857142857 ，运行时间为 21.237279653549194s\n",
      "完成 epoch 37/50 ，平均奖励为 0.8214285714285714 ，运行时间为 20.178120374679565s\n",
      "完成 epoch 38/50 ，平均奖励为 0.75 ，运行时间为 21.19729995727539s\n",
      "完成 epoch 39/50 ，平均奖励为 0.7678571428571429 ，运行时间为 22.36018967628479s\n",
      "完成 epoch 40/50 ，平均奖励为 0.8035714285714286 ，运行时间为 19.813004732131958s\n",
      "完成 epoch 41/50 ，平均奖励为 0.7142857142857143 ，运行时间为 21.294041395187378s\n",
      "完成 epoch 42/50 ，平均奖励为 0.7857142857142857 ，运行时间为 21.013790607452393s\n",
      "完成 epoch 43/50 ，平均奖励为 0.8214285714285714 ，运行时间为 20.051365613937378s\n",
      "完成 epoch 44/50 ，平均奖励为 0.75 ，运行时间为 21.545413494110107s\n",
      "完成 epoch 45/50 ，平均奖励为 0.8214285714285714 ，运行时间为 20.847406148910522s\n",
      "完成 epoch 46/50 ，平均奖励为 0.75 ，运行时间为 20.157886266708374s\n",
      "完成 epoch 47/50 ，平均奖励为 0.8035714285714286 ，运行时间为 19.9347927570343s\n",
      "完成 epoch 48/50 ，平均奖励为 0.75 ，运行时间为 23.576935052871704s\n",
      "完成 epoch 49/50 ，平均奖励为 0.75 ，运行时间为 20.8612003326416s\n"
     ]
    }
   ],
   "source": [
    "avg_reward_stochastic = ucb_stochastic.run(num_epochs=50)"
   ]
  },
  {
   "cell_type": "code",
   "execution_count": 9,
   "metadata": {},
   "outputs": [
    {
     "data": {
      "text/plain": [
       "Text(0.5, 1.0, 'LinUCB: Stochastic rewards with p=0.9')"
      ]
     },
     "execution_count": 9,
     "metadata": {},
     "output_type": "execute_result"
    },
    {
     "data": {
      "image/png": "[encoded data removed]",
      "text/plain": [
       "<Figure size 504x360 with 1 Axes>"
      ]
     },
     "metadata": {
      "needs_background": "light"
     },
     "output_type": "display_data"
    }
   ],
   "source": [
    "plt.plot(range(len(avg_reward_stochastic)), avg_reward_stochastic)\n",
    "plt.ylabel('average reward in epoch')\n",
    "plt.ylim(0.2, 1)\n",
    "plt.xlabel('epoch (1 epoch = recommended to all users)')\n",
    "plt.title('LinUCB: Stochastic rewards with p=0.9')"
   ]
  },
  {
   "cell_type": "code",
   "execution_count": null,
   "metadata": {},
   "outputs": [],
   "source": []
  }
 ],
 "metadata": {
  "kernelspec": {
   "display_name": "Python 3",
   "language": "python",
   "name": "python3"
  },
  "language_info": {
   "codemirror_mode": {
    "name": "ipython",
    "version": 3
   },
   "file_extension": ".py",
   "mimetype": "text/x-python",
   "name": "python",
   "nbconvert_exporter": "python",
   "pygments_lexer": "ipython3",
   "version": "3.6.9"
  }
 },
 "nbformat": 4,
 "nbformat_minor": 2
}
